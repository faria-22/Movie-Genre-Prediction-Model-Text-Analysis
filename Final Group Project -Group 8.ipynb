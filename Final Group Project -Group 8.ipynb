{
 "cells": [
  {
   "cell_type": "markdown",
   "metadata": {},
   "source": [
    "        Data Science: A Programming Approach\n",
    "        Mahyar S Vaghefi\n",
    "        University of Texas Arlington\n",
    "        \n",
    "        This document can only be used for class studies. \n",
    "        You are not allowed to share it in any public platform."
   ]
  },
  {
   "cell_type": "markdown",
   "metadata": {},
   "source": [
    "<h1 align='center' style=\"color: blue;\">Group Project - Fall 2022</h1>"
   ]
  },
  {
   "cell_type": "markdown",
   "metadata": {},
   "source": [
    "You need to work as a team for this project. Your job is to develop a predictive model that can predict whether or not a movie is a <i>Drama</i>. In order to do so you need to use the textual features of the movie stories and creat your predictive models. There are totally three different files in this project.\n",
    "\n",
    "<ol>\n",
    "    <li><b>movie_story_student_file.csv</b>: This file contains the movie stories that should be used by students for model development.</li>\n",
    "    <li><b>movie_story_evaluation_file.csv</b>: This file should NOT be used for model development purposes. Students should only use this file after developing their predictive models and selecting their best final model. They then need to use their best predictive model and predict whether or not the movies in <b>movie story evaluation file.csv</b> are Drama.</li>\n",
    "    <li><b>movies.csv</b>: This file contain the movie genres.</li>\n",
    "</ol>"
   ]
  },
  {
   "cell_type": "markdown",
   "metadata": {},
   "source": [
    "<b>Additional Note:</b> This note provides additional guideline for the project."
   ]
  },
  {
   "cell_type": "markdown",
   "metadata": {},
   "source": [
    "<b>Step 1:</b> Explore all files to become familiar with the dataset <br />\n",
    "<b>Step 2:</b> There are 20,000 movies in `movie_story_student_file.csv`file. Use the `movies.csv` file to determine whether a movie is Drama or not. The final output of this step should be development of a dataframe file that contains three columns: 1) movieId, 2) story, 3) DramaGenre. The value for the third column should be in a binary format. If the movie is drama the value should be 1, otherwise 0. Name the new file as `main_dataset`. <br />\n",
    "<b>Step 3:</b> If you want to just have one train and one test set, then split the `main_dataset` to train and test sets. Otherwise you can use cross validation methods.  <br />\n",
    "<b>Step 4:</b> Use your supervised learning and text analysis knowledge to develope different predictive models (i.e. logestic regression, random forest, ...). Test the performance of your models in terms of accuracy, precision, recall, and F1 scores. <br />\n",
    "<b>Step 5:</b> Choose one of your best models (only one). Then use the full data available in `main dataset` to train that model.<br />\n",
    "<b>Step 6:</b> Prepare data in `movie_story_evaluation_file.csv` for prediction. You need to perform the exact same steps that you have done in <b>Step 2</b> to prepare this new dataset. Name the new dataset as `evaluation_dataset`. <br />\n",
    "<b>Step 7:</b> Use your selected model in Step 5 to predict whether or not movies in `evaluation_dataset` are Drama movies. <br />\n",
    "<b>Step 8:</b> Report the final accuracy, precision, recall and F1 score. <br />"
   ]
  },
  {
   "cell_type": "markdown",
   "metadata": {},
   "source": [
    "Keep in mind that the above steps are only provide guidelines. There are more detail works in this project that should be identified by students. "
   ]
  },
  {
   "cell_type": "markdown",
   "metadata": {},
   "source": [
    "<b>Extra Credit</b> The group with the best prediction model is going to get extra points."
   ]
  },
  {
   "cell_type": "markdown",
   "metadata": {},
   "source": [
    "### Output"
   ]
  },
  {
   "cell_type": "markdown",
   "metadata": {},
   "source": [
    "<ul>\n",
    "    <li>Make sure to put descriptive comments on your code</li>\n",
    "    <li>Use the markdown cell format in Jupiter to add your own interpretation to the result in each section.</li>\n",
    "    <li>Make sure to keep the output of your runs when you want to save the final version of the file.</li>\n",
    "    <li>The final submited file should be very well structured and should have a consistent flow of analysis.</li>\n",
    "    <li>You may want to use an additional word document to report the result of your analysis</li>\n",
    "</ul>"
   ]
  },
  {
   "cell_type": "markdown",
   "metadata": {},
   "source": [
    "#### Due Date: Dec 2 2022 at 11:59 AM"
   ]
  },
  {
   "cell_type": "markdown",
   "metadata": {},
   "source": [
    "<table style=\"width:400px;height:200px;border:1px black solid; background-color:white\">\n",
    "    <tr style=\"background-color:white\">\n",
    "        <th style=\"text-align:left;border:1px black solid\">Comprehensiveness</th>\n",
    "        <td style=\"text-align:center;border:1px black solid\"><b>30%</b></td>\n",
    "    </tr>\n",
    "    <tr style=\"background-color:white\">\n",
    "        <th style=\"text-align:left;border:1px black solid\">Correctness</th>\n",
    "        <td style=\"text-align:center;border:1px black solid\"><b>30%</b></td>\n",
    "    </tr>\n",
    "    <tr style=\"background-color:white\">\n",
    "        <th style=\"text-align:left;border:1px black solid\">Complete Report</th>\n",
    "        <td style=\"text-align:center;border:1px black solid\"><b>20%</b></td>\n",
    "    </tr>\n",
    "    <tr style=\"background-color:white\">\n",
    "        <th style=\"text-align:left;border:1px black solid\">Clear Code</th>\n",
    "        <td style=\"text-align:center;border:1px black solid\"><b>20%</b></td>\n",
    "    </tr>\n",
    "    <tr style=\"background-color:white\">\n",
    "        <th style=\"text-align:center;border:1px black solid;color:red\"><u>Total</u></th>\n",
    "        <td style=\"text-align:center;border:1px black solid;color:red\"><b stlyle=\"color:red\">100%</b></td>\n",
    "    </tr>\n",
    "</table>"
   ]
  },
  {
   "cell_type": "markdown",
   "metadata": {},
   "source": [
    "## <u>Project Objective</u>"
   ]
  },
  {
   "cell_type": "markdown",
   "metadata": {},
   "source": [
    "<p>To predict whether or not a movie is a drama by creating a set of predictive models.</p>"
   ]
  },
  {
   "cell_type": "code",
   "execution_count": 1,
   "metadata": {},
   "outputs": [],
   "source": [
    "import pandas as pd\n",
    "import numpy as np\n",
    "import re"
   ]
  },
  {
   "cell_type": "markdown",
   "metadata": {},
   "source": [
    "## <u>Data Description</u>"
   ]
  },
  {
   "cell_type": "code",
   "execution_count": 2,
   "metadata": {
    "scrolled": false
   },
   "outputs": [],
   "source": [
    "# Step 1\n",
    "# Loading all 3 data sets\n",
    "movies=pd.read_csv('movies.csv')\n",
    "movie_story=pd.read_csv('movie_story_student_file.csv')\n",
    "movies_evaluation=pd.read_csv('movie_story_evaluation_file.csv')"
   ]
  },
  {
   "cell_type": "markdown",
   "metadata": {},
   "source": [
    "<u>Initial Raw Data Observation:</u> \n",
    "<p>Our first dataset, 'movies.csv' file contains 23,498 rows and 3 columns containing information regarding movieID, movie title and genres. Our 2nd dataset, 'movie_story_student_file.csv' file contains almost 20,000 rows and 2 columns providing additional information about the sotry of a particular movie. We are going to use these two dataset to train different predictive models dividing it into train and test sets: 70% train and 30% test data. Our 3rd dataset, 'movie_story_evaluation_file.csv' file contains 3,498 rows and and 2 columns names movieID and story of each movei. </p>"
   ]
  },
  {
   "cell_type": "code",
   "execution_count": 3,
   "metadata": {},
   "outputs": [
    {
     "data": {
      "text/html": [
       "<div>\n",
       "<style scoped>\n",
       "    .dataframe tbody tr th:only-of-type {\n",
       "        vertical-align: middle;\n",
       "    }\n",
       "\n",
       "    .dataframe tbody tr th {\n",
       "        vertical-align: top;\n",
       "    }\n",
       "\n",
       "    .dataframe thead th {\n",
       "        text-align: right;\n",
       "    }\n",
       "</style>\n",
       "<table border=\"1\" class=\"dataframe\">\n",
       "  <thead>\n",
       "    <tr style=\"text-align: right;\">\n",
       "      <th></th>\n",
       "      <th>movie_id</th>\n",
       "      <th>story</th>\n",
       "      <th>genres</th>\n",
       "    </tr>\n",
       "  </thead>\n",
       "  <tbody>\n",
       "    <tr>\n",
       "      <th>0</th>\n",
       "      <td>131072</td>\n",
       "      <td>A girl who always tends to fall in love with t...</td>\n",
       "      <td>Comedy</td>\n",
       "    </tr>\n",
       "    <tr>\n",
       "      <th>1</th>\n",
       "      <td>196609</td>\n",
       "      <td>Bigfoot has come to the town of Ellwood City, ...</td>\n",
       "      <td>Comedy|Horror</td>\n",
       "    </tr>\n",
       "    <tr>\n",
       "      <th>2</th>\n",
       "      <td>131074</td>\n",
       "      <td>At an altitude of 18,000 feet, Alaska\\'s Mount...</td>\n",
       "      <td>Documentary</td>\n",
       "    </tr>\n",
       "  </tbody>\n",
       "</table>\n",
       "</div>"
      ],
      "text/plain": [
       "   movie_id                                              story         genres\n",
       "0    131072  A girl who always tends to fall in love with t...         Comedy\n",
       "1    196609  Bigfoot has come to the town of Ellwood City, ...  Comedy|Horror\n",
       "2    131074  At an altitude of 18,000 feet, Alaska\\'s Mount...    Documentary"
      ]
     },
     "execution_count": 3,
     "metadata": {},
     "output_type": "execute_result"
    }
   ],
   "source": [
    "# Step 2\n",
    "# Merging 2 datasets(movies and movie_story_student_file)\n",
    "movies_new=pd.merge(movie_story, movies, left_on='movie_id', right_on='movieId', how='inner')\n",
    "movies_new=movies_new.drop(['movieId', 'title'], axis=1)\n",
    "movies_new.head(3)"
   ]
  },
  {
   "cell_type": "code",
   "execution_count": 4,
   "metadata": {},
   "outputs": [],
   "source": [
    "# Step 2\n",
    "# Creating the dataframe by removing unwanted characters\n",
    "main_dataset=movies_new[(movies_new.genres!='(no genres listed)') & (movies_new.story!='No overview found.') & (movies_new.story!='No movie overview available.')]\n",
    "main_dataset=main_dataset.dropna()\n",
    "new_story=[]\n",
    "for word in main_dataset['story']:\n",
    "    word=re.sub(r'\\\\x..', ' ', word) #Removing unwanted charaters in form '\\xe2\\x80\\x93'\n",
    "    word=re.sub(r'[^\\w]', ' ', word) #Removing the symbols like '.', ':', ',' and '-' \n",
    "    word=re.sub(' s ', ' ', word) #Removing any single 's' characters \n",
    "    word=\" \".join(word.split()) #Removing multiple unwanted spaces\n",
    "    word=word.lower() #Converting all characters to lowercase\n",
    "    new_story.append(word)\n",
    "main_dataset.drop(['story'], axis=1, inplace=True)\n",
    "main_dataset['story']=new_story"
   ]
  },
  {
   "cell_type": "code",
   "execution_count": 5,
   "metadata": {},
   "outputs": [
    {
     "data": {
      "text/plain": [
       "(18869, 4)"
      ]
     },
     "execution_count": 5,
     "metadata": {},
     "output_type": "execute_result"
    }
   ],
   "source": [
    "# Step 2\n",
    "# Taking binary values for DramaGenres column\n",
    "main_dataset[\"DramaGenre\"]=main_dataset[\"genres\"].map(lambda x:1 if \"Drama\" in x else 0)\n",
    "main_dataset.shape"
   ]
  },
  {
   "cell_type": "code",
   "execution_count": 6,
   "metadata": {
    "scrolled": false
   },
   "outputs": [
    {
     "data": {
      "text/html": [
       "<div>\n",
       "<style scoped>\n",
       "    .dataframe tbody tr th:only-of-type {\n",
       "        vertical-align: middle;\n",
       "    }\n",
       "\n",
       "    .dataframe tbody tr th {\n",
       "        vertical-align: top;\n",
       "    }\n",
       "\n",
       "    .dataframe thead th {\n",
       "        text-align: right;\n",
       "    }\n",
       "</style>\n",
       "<table border=\"1\" class=\"dataframe\">\n",
       "  <thead>\n",
       "    <tr style=\"text-align: right;\">\n",
       "      <th></th>\n",
       "      <th>movie_id</th>\n",
       "      <th>story</th>\n",
       "      <th>DramaGenre</th>\n",
       "    </tr>\n",
       "  </thead>\n",
       "  <tbody>\n",
       "    <tr>\n",
       "      <th>0</th>\n",
       "      <td>131072</td>\n",
       "      <td>a girl who always tends to fall in love with t...</td>\n",
       "      <td>0</td>\n",
       "    </tr>\n",
       "    <tr>\n",
       "      <th>1</th>\n",
       "      <td>196609</td>\n",
       "      <td>bigfoot has come to the town of ellwood city p...</td>\n",
       "      <td>0</td>\n",
       "    </tr>\n",
       "    <tr>\n",
       "      <th>2</th>\n",
       "      <td>131074</td>\n",
       "      <td>at an altitude of 18 000 feet alaska mount st ...</td>\n",
       "      <td>0</td>\n",
       "    </tr>\n",
       "    <tr>\n",
       "      <th>3</th>\n",
       "      <td>196611</td>\n",
       "      <td>in her first special since 2003 ellen revisits...</td>\n",
       "      <td>0</td>\n",
       "    </tr>\n",
       "    <tr>\n",
       "      <th>4</th>\n",
       "      <td>196613</td>\n",
       "      <td>mike and sulley are back at monsters universit...</td>\n",
       "      <td>0</td>\n",
       "    </tr>\n",
       "    <tr>\n",
       "      <th>5</th>\n",
       "      <td>131080</td>\n",
       "      <td>when lady tremaine steals the fairy godmother ...</td>\n",
       "      <td>0</td>\n",
       "    </tr>\n",
       "    <tr>\n",
       "      <th>6</th>\n",
       "      <td>131084</td>\n",
       "      <td>film that mixes live action and animation from...</td>\n",
       "      <td>0</td>\n",
       "    </tr>\n",
       "    <tr>\n",
       "      <th>7</th>\n",
       "      <td>196621</td>\n",
       "      <td>when a beautiful ballerina dancer adriana mena...</td>\n",
       "      <td>0</td>\n",
       "    </tr>\n",
       "    <tr>\n",
       "      <th>8</th>\n",
       "      <td>131090</td>\n",
       "      <td>jonas is 18 years old and has had to repeat se...</td>\n",
       "      <td>0</td>\n",
       "    </tr>\n",
       "    <tr>\n",
       "      <th>9</th>\n",
       "      <td>196629</td>\n",
       "      <td>when ex soldier turned mercenary john gold lea...</td>\n",
       "      <td>0</td>\n",
       "    </tr>\n",
       "    <tr>\n",
       "      <th>10</th>\n",
       "      <td>65558</td>\n",
       "      <td>the recruiter takes viewers to the louisiana c...</td>\n",
       "      <td>0</td>\n",
       "    </tr>\n",
       "    <tr>\n",
       "      <th>11</th>\n",
       "      <td>196631</td>\n",
       "      <td>the tense marriage between two painters is sha...</td>\n",
       "      <td>1</td>\n",
       "    </tr>\n",
       "    <tr>\n",
       "      <th>12</th>\n",
       "      <td>131098</td>\n",
       "      <td>a lowly stable elf finds that he is the only o...</td>\n",
       "      <td>0</td>\n",
       "    </tr>\n",
       "    <tr>\n",
       "      <th>13</th>\n",
       "      <td>131100</td>\n",
       "      <td>david sieveking left home years ago to make fi...</td>\n",
       "      <td>0</td>\n",
       "    </tr>\n",
       "    <tr>\n",
       "      <th>14</th>\n",
       "      <td>196637</td>\n",
       "      <td>three estranged sisters deal with the death of...</td>\n",
       "      <td>1</td>\n",
       "    </tr>\n",
       "  </tbody>\n",
       "</table>\n",
       "</div>"
      ],
      "text/plain": [
       "    movie_id                                              story  DramaGenre\n",
       "0     131072  a girl who always tends to fall in love with t...           0\n",
       "1     196609  bigfoot has come to the town of ellwood city p...           0\n",
       "2     131074  at an altitude of 18 000 feet alaska mount st ...           0\n",
       "3     196611  in her first special since 2003 ellen revisits...           0\n",
       "4     196613  mike and sulley are back at monsters universit...           0\n",
       "5     131080  when lady tremaine steals the fairy godmother ...           0\n",
       "6     131084  film that mixes live action and animation from...           0\n",
       "7     196621  when a beautiful ballerina dancer adriana mena...           0\n",
       "8     131090  jonas is 18 years old and has had to repeat se...           0\n",
       "9     196629  when ex soldier turned mercenary john gold lea...           0\n",
       "10     65558  the recruiter takes viewers to the louisiana c...           0\n",
       "11    196631  the tense marriage between two painters is sha...           1\n",
       "12    131098  a lowly stable elf finds that he is the only o...           0\n",
       "13    131100  david sieveking left home years ago to make fi...           0\n",
       "14    196637  three estranged sisters deal with the death of...           1"
      ]
     },
     "execution_count": 6,
     "metadata": {},
     "output_type": "execute_result"
    }
   ],
   "source": [
    "# Dropping genres column and observing the new dataset \n",
    "#main_dataset.to_csv('final-re.csv')\n",
    "main_dataset=main_dataset.drop(columns=['genres']) \n",
    "main_dataset.head(15)"
   ]
  },
  {
   "cell_type": "markdown",
   "metadata": {},
   "source": [
    "<u>Data Processing:</u> \n",
    "<p>In step 2, we have merged 'movies.csv' and 'movie_story_student_file.csv' file keeping only 3 columns: movie_id, story and genres. Then, we have created a dataframe by dropping null values from genres and story columns where genre type and story overview was not mentioned or available. We have also scaled our dataframe by using  regular expression to remove unwanted characters, symbols, signs and spaces. In next step, we have taken binary values for DramaGenre column: 1 means drama, otherwise 0. After removing all null values from genre and story column, our new file 'main_dataset' have 18,869 rows and 3 columns: movie_id, story and DramaGenre.</p>"
   ]
  },
  {
   "cell_type": "markdown",
   "metadata": {},
   "source": [
    "## <u>Building a Benchmark Model</u>"
   ]
  },
  {
   "cell_type": "markdown",
   "metadata": {},
   "source": [
    "<p>In this step, we have created a benchmark model using logistic regression model. We will use this model later for a logical comparison with other models while selecting our best model for final prediction. And we can observe that the accuracy for our benchmark model is 67.12%. </p>"
   ]
  },
  {
   "cell_type": "code",
   "execution_count": 6,
   "metadata": {},
   "outputs": [],
   "source": [
    "# Converting main_dataset into a vector\n",
    "from sklearn.feature_extraction.text import CountVectorizer\n",
    "vect_base = CountVectorizer(lowercase=False)\n",
    "vect_base.fit(main_dataset.story)\n",
    "X_base = vect_base.transform(main_dataset.story)"
   ]
  },
  {
   "cell_type": "code",
   "execution_count": 7,
   "metadata": {},
   "outputs": [
    {
     "name": "stdout",
     "output_type": "stream",
     "text": [
      "accuracy_score is:  0.6710828475534358\n",
      "Classification Report: \n",
      "               precision    recall  f1-score   support\n",
      "\n",
      "           0       0.70      0.72      0.71      3140\n",
      "           1       0.63      0.61      0.62      2521\n",
      "\n",
      "    accuracy                           0.67      5661\n",
      "   macro avg       0.67      0.67      0.67      5661\n",
      "weighted avg       0.67      0.67      0.67      5661\n",
      "\n"
     ]
    }
   ],
   "source": [
    "# Building benchmark model\n",
    "from sklearn.linear_model import LogisticRegression\n",
    "from sklearn.model_selection import train_test_split\n",
    "from sklearn.metrics import accuracy_score, precision_score, recall_score, f1_score\n",
    "from sklearn.metrics import classification_report, confusion_matrix\n",
    "\n",
    "y_base = main_dataset.DramaGenre\n",
    "\n",
    "X_train_base, X_test_base, y_train_base, y_test_base = train_test_split(X_base, y_base, test_size=0.3, random_state=0, stratify=y_base)\n",
    "model_base = LogisticRegression(max_iter=1000)\n",
    "model_base.fit(X_train_base,y_train_base)\n",
    "y_test_hat_base = model_base.predict(X_test_base)\n",
    "print('accuracy_score is: ',accuracy_score(y_test_base,y_test_hat_base))\n",
    "print('Classification Report: \\n',classification_report(y_test_base,y_test_hat_base))"
   ]
  },
  {
   "cell_type": "code",
   "execution_count": 8,
   "metadata": {},
   "outputs": [
    {
     "name": "stderr",
     "output_type": "stream",
     "text": [
      "[nltk_data] Downloading package stopwords to\n",
      "[nltk_data]     C:\\Users\\faria\\AppData\\Roaming\\nltk_data...\n",
      "[nltk_data]   Package stopwords is already up-to-date!\n"
     ]
    },
    {
     "data": {
      "text/plain": [
       "True"
      ]
     },
     "execution_count": 8,
     "metadata": {},
     "output_type": "execute_result"
    }
   ],
   "source": [
    "# Installing stopwords\n",
    "import nltk\n",
    "nltk.download('stopwords')"
   ]
  },
  {
   "cell_type": "code",
   "execution_count": 9,
   "metadata": {},
   "outputs": [],
   "source": [
    "# Removing stopwords from the distribution\n",
    "from nltk.corpus import stopwords\n",
    "stop_words = set(stopwords.words('english'))\n",
    "\n",
    "# function to remove stopwords\n",
    "def filter_stopwords(text):\n",
    "    filtered_text = [w for w in text.split() if not w in stop_words]\n",
    "    return ' '.join(filtered_text)\n",
    "main_dataset['story'] = main_dataset.story.apply(filter_stopwords)"
   ]
  },
  {
   "cell_type": "code",
   "execution_count": 10,
   "metadata": {},
   "outputs": [
    {
     "data": {
      "text/html": [
       "<div>\n",
       "<style scoped>\n",
       "    .dataframe tbody tr th:only-of-type {\n",
       "        vertical-align: middle;\n",
       "    }\n",
       "\n",
       "    .dataframe tbody tr th {\n",
       "        vertical-align: top;\n",
       "    }\n",
       "\n",
       "    .dataframe thead th {\n",
       "        text-align: right;\n",
       "    }\n",
       "</style>\n",
       "<table border=\"1\" class=\"dataframe\">\n",
       "  <thead>\n",
       "    <tr style=\"text-align: right;\">\n",
       "      <th></th>\n",
       "      <th>movie_id</th>\n",
       "      <th>genres</th>\n",
       "      <th>story</th>\n",
       "      <th>DramaGenre</th>\n",
       "    </tr>\n",
       "  </thead>\n",
       "  <tbody>\n",
       "    <tr>\n",
       "      <th>0</th>\n",
       "      <td>131072</td>\n",
       "      <td>Comedy</td>\n",
       "      <td>girl always tends fall love wrong guy meets on...</td>\n",
       "      <td>0</td>\n",
       "    </tr>\n",
       "    <tr>\n",
       "      <th>1</th>\n",
       "      <td>196609</td>\n",
       "      <td>Comedy|Horror</td>\n",
       "      <td>bigfoot come town ellwood city pa causing big ...</td>\n",
       "      <td>0</td>\n",
       "    </tr>\n",
       "    <tr>\n",
       "      <th>2</th>\n",
       "      <td>131074</td>\n",
       "      <td>Documentary</td>\n",
       "      <td>altitude 18 000 feet alaska mount st elias des...</td>\n",
       "      <td>0</td>\n",
       "    </tr>\n",
       "    <tr>\n",
       "      <th>3</th>\n",
       "      <td>196611</td>\n",
       "      <td>Comedy</td>\n",
       "      <td>first special since 2003 ellen revisits road s...</td>\n",
       "      <td>0</td>\n",
       "    </tr>\n",
       "    <tr>\n",
       "      <th>4</th>\n",
       "      <td>196613</td>\n",
       "      <td>Animation|Children|Comedy|Fantasy</td>\n",
       "      <td>mike sulley back monsters university fun fille...</td>\n",
       "      <td>0</td>\n",
       "    </tr>\n",
       "    <tr>\n",
       "      <th>5</th>\n",
       "      <td>131080</td>\n",
       "      <td>Animation|Children|Fantasy|Musical|Romance</td>\n",
       "      <td>lady tremaine steals fairy godmother wand chan...</td>\n",
       "      <td>0</td>\n",
       "    </tr>\n",
       "    <tr>\n",
       "      <th>6</th>\n",
       "      <td>131084</td>\n",
       "      <td>Adventure|Comedy|Fantasy</td>\n",
       "      <td>film mixes live action animation hui buh chara...</td>\n",
       "      <td>0</td>\n",
       "    </tr>\n",
       "    <tr>\n",
       "      <th>7</th>\n",
       "      <td>196621</td>\n",
       "      <td>Horror</td>\n",
       "      <td>beautiful ballerina dancer adriana mena kendra...</td>\n",
       "      <td>0</td>\n",
       "    </tr>\n",
       "    <tr>\n",
       "      <th>8</th>\n",
       "      <td>131090</td>\n",
       "      <td>Comedy</td>\n",
       "      <td>jonas 18 years old repeat several years educat...</td>\n",
       "      <td>0</td>\n",
       "    </tr>\n",
       "    <tr>\n",
       "      <th>9</th>\n",
       "      <td>196629</td>\n",
       "      <td>Action</td>\n",
       "      <td>ex soldier turned mercenary john gold learns m...</td>\n",
       "      <td>0</td>\n",
       "    </tr>\n",
       "  </tbody>\n",
       "</table>\n",
       "</div>"
      ],
      "text/plain": [
       "   movie_id                                      genres  \\\n",
       "0    131072                                      Comedy   \n",
       "1    196609                               Comedy|Horror   \n",
       "2    131074                                 Documentary   \n",
       "3    196611                                      Comedy   \n",
       "4    196613           Animation|Children|Comedy|Fantasy   \n",
       "5    131080  Animation|Children|Fantasy|Musical|Romance   \n",
       "6    131084                    Adventure|Comedy|Fantasy   \n",
       "7    196621                                      Horror   \n",
       "8    131090                                      Comedy   \n",
       "9    196629                                      Action   \n",
       "\n",
       "                                               story  DramaGenre  \n",
       "0  girl always tends fall love wrong guy meets on...           0  \n",
       "1  bigfoot come town ellwood city pa causing big ...           0  \n",
       "2  altitude 18 000 feet alaska mount st elias des...           0  \n",
       "3  first special since 2003 ellen revisits road s...           0  \n",
       "4  mike sulley back monsters university fun fille...           0  \n",
       "5  lady tremaine steals fairy godmother wand chan...           0  \n",
       "6  film mixes live action animation hui buh chara...           0  \n",
       "7  beautiful ballerina dancer adriana mena kendra...           0  \n",
       "8  jonas 18 years old repeat several years educat...           0  \n",
       "9  ex soldier turned mercenary john gold learns m...           0  "
      ]
     },
     "execution_count": 10,
     "metadata": {},
     "output_type": "execute_result"
    }
   ],
   "source": [
    "main_dataset.head(10)"
   ]
  },
  {
   "cell_type": "markdown",
   "metadata": {},
   "source": [
    "## <u>Visualization After Processing</u>"
   ]
  },
  {
   "cell_type": "markdown",
   "metadata": {},
   "source": [
    "<p>After processing and scaling our main dataset, we have applied some visualization techniques to observe our training dataset to have a better understanding.</p>"
   ]
  },
  {
   "cell_type": "markdown",
   "metadata": {},
   "source": [
    "#### Bar Chart"
   ]
  },
  {
   "cell_type": "code",
   "execution_count": 11,
   "metadata": {
    "scrolled": true
   },
   "outputs": [
    {
     "data": {
      "text/plain": [
       "0    10467\n",
       "1     8402\n",
       "Name: DramaGenre, dtype: int64"
      ]
     },
     "execution_count": 11,
     "metadata": {},
     "output_type": "execute_result"
    },
    {
     "data": {
      "image/png": "[encoded data removed]",
      "text/plain": [
       "<Figure size 432x288 with 1 Axes>"
      ]
     },
     "metadata": {
      "needs_background": "light"
     },
     "output_type": "display_data"
    }
   ],
   "source": [
    "# Visualization using Bar Chart\n",
    "%matplotlib inline\n",
    "main_dataset.DramaGenre.value_counts().sort_values().plot(kind='bar', color='red')\n",
    "main_dataset.DramaGenre.value_counts()"
   ]
  },
  {
   "cell_type": "markdown",
   "metadata": {},
   "source": [
    "<p>From bar chart, we can notice that around 8400 movies are falling under drama category and rest of the movies are categorized as non-drama. </p>"
   ]
  },
  {
   "cell_type": "markdown",
   "metadata": {},
   "source": [
    "#### Pie Chart"
   ]
  },
  {
   "cell_type": "code",
   "execution_count": 12,
   "metadata": {},
   "outputs": [
    {
     "data": {
      "text/plain": [
       "0    10467\n",
       "1     8402\n",
       "Name: DramaGenre, dtype: int64"
      ]
     },
     "execution_count": 12,
     "metadata": {},
     "output_type": "execute_result"
    },
    {
     "data": {
      "image/png": "[encoded data removed]",
      "text/plain": [
       "<Figure size 576x576 with 1 Axes>"
      ]
     },
     "metadata": {},
     "output_type": "display_data"
    }
   ],
   "source": [
    "# Visualization using Pie Chart\n",
    "main_dataset.DramaGenre.value_counts().sort_values().plot(kind='pie', y='2010', legend=False, figsize=(8, 8),autopct='%1.1f%%')\n",
    "main_dataset.DramaGenre.value_counts()"
   ]
  },
  {
   "cell_type": "markdown",
   "metadata": {},
   "source": [
    "<p>Now if we look at the pie chart then we can conclude that 44.5% movies are drama and 55.5% movies are non-drama category in our main dataset.</p>"
   ]
  },
  {
   "cell_type": "markdown",
   "metadata": {},
   "source": [
    "#### Word Cloud"
   ]
  },
  {
   "cell_type": "code",
   "execution_count": 12,
   "metadata": {},
   "outputs": [
    {
     "name": "stdout",
     "output_type": "stream",
     "text": [
      "There are 4162388 words in the combination of all stories.\n"
     ]
    },
    {
     "data": {
      "image/png": "[encoded data removed]",
      "text/plain": [
       "<Figure size 432x288 with 1 Axes>"
      ]
     },
     "metadata": {
      "needs_background": "light"
     },
     "output_type": "display_data"
    }
   ],
   "source": [
    "# Generating Word Cloud\n",
    "from wordcloud import WordCloud,STOPWORDS\n",
    "story = main_dataset.story\n",
    "text = \" \".join(story for story in main_dataset.story)\n",
    "print (\"There are {} words in the combination of all stories.\".format(len(text)))\n",
    "\n",
    "stopwords = set(STOPWORDS)\n",
    "wordcloud = WordCloud(stopwords=stopwords, background_color=\"white\")\n",
    "wordcloud.generate(text)\n",
    "\n",
    "import matplotlib.pyplot as plt\n",
    "plt.imshow(wordcloud, interpolation='bilinear')\n",
    "plt.axis(\"off\");"
   ]
  },
  {
   "cell_type": "markdown",
   "metadata": {},
   "source": [
    "<p>We have also used wordcloud for presentation of word frequency in our textual data. By observing and analyzing the word cloud, we can summarize that there are in total 4162388 words in the combination of all stories. Usually the bigger and bolder the word appears, the more often it's mentioned within a given text and the more important it is which depicts that life, family, live, one, world and find are some of the more frequent appearing words in our dataset.</p>"
   ]
  },
  {
   "cell_type": "code",
   "execution_count": null,
   "metadata": {},
   "outputs": [],
   "source": [
    "# Installing yellowbrick package\n",
    "!pip install yellowbrick"
   ]
  },
  {
   "cell_type": "markdown",
   "metadata": {},
   "source": [
    "#### Term Frequesncy Distribution"
   ]
  },
  {
   "cell_type": "code",
   "execution_count": 13,
   "metadata": {},
   "outputs": [
    {
     "data": {
      "image/png": "[encoded data removed]",
      "text/plain": [
       "<Figure size 576x576 with 1 Axes>"
      ]
     },
     "metadata": {
      "needs_background": "light"
     },
     "output_type": "display_data"
    },
    {
     "data": {
      "text/plain": [
       "<AxesSubplot:title={'center':'Frequency Distribution of Top 30 tokens'}>"
      ]
     },
     "execution_count": 13,
     "metadata": {},
     "output_type": "execute_result"
    }
   ],
   "source": [
    "# Term Frequesncy Distribution\n",
    "from yellowbrick.text.freqdist import FreqDistVisualizer \n",
    "from sklearn.feature_extraction.text import CountVectorizer\n",
    "import matplotlib as mpl\n",
    "import matplotlib.pyplot as plt\n",
    "%matplotlib inline\n",
    "\n",
    "# Find the Document Term Frequency Matrix \n",
    "vect = CountVectorizer(stop_words='english')\n",
    "V = vect.fit_transform(main_dataset.story)\n",
    "\n",
    "# Get all features (tokens)\n",
    "features = vect.get_feature_names_out()\n",
    "\n",
    "# Use yellowbrick package for visualization of top 30 tokens\n",
    "fig, ax = plt.subplots(figsize=(8, 8))\n",
    "visualizer = FreqDistVisualizer(features=features, n=30)\n",
    "visualizer.fit(V)\n",
    "visualizer.poof()"
   ]
  },
  {
   "cell_type": "markdown",
   "metadata": {},
   "source": [
    "<p>Here, we have used term frequency to examine the importance of words in a text or set of texts by measuring how often certain words appear. We can explain that \"life\" word is coming almost 4000 times in our dataset which is the highest number here, and the next frequently appearing word are \"young\" and \"world\" which are iterating almost 2700 and 2600 times respectively.</p>"
   ]
  },
  {
   "cell_type": "markdown",
   "metadata": {},
   "source": [
    "## <u>Applying Text Analysis Techniques</u>"
   ]
  },
  {
   "cell_type": "markdown",
   "metadata": {},
   "source": [
    "<p>Now, we are going to apply some text analysis method to futher build our training models and conduct the prediction using the best model found.</p>"
   ]
  },
  {
   "cell_type": "markdown",
   "metadata": {},
   "source": [
    "### Stemming"
   ]
  },
  {
   "cell_type": "code",
   "execution_count": 14,
   "metadata": {
    "scrolled": false
   },
   "outputs": [
    {
     "data": {
      "text/html": [
       "<div>\n",
       "<style scoped>\n",
       "    .dataframe tbody tr th:only-of-type {\n",
       "        vertical-align: middle;\n",
       "    }\n",
       "\n",
       "    .dataframe tbody tr th {\n",
       "        vertical-align: top;\n",
       "    }\n",
       "\n",
       "    .dataframe thead th {\n",
       "        text-align: right;\n",
       "    }\n",
       "</style>\n",
       "<table border=\"1\" class=\"dataframe\">\n",
       "  <thead>\n",
       "    <tr style=\"text-align: right;\">\n",
       "      <th></th>\n",
       "      <th>movie_id</th>\n",
       "      <th>story</th>\n",
       "      <th>DramaGenre</th>\n",
       "    </tr>\n",
       "  </thead>\n",
       "  <tbody>\n",
       "    <tr>\n",
       "      <th>0</th>\n",
       "      <td>131072</td>\n",
       "      <td>girl alway tend fall love wrong guy meet one b...</td>\n",
       "      <td>0</td>\n",
       "    </tr>\n",
       "    <tr>\n",
       "      <th>1</th>\n",
       "      <td>196609</td>\n",
       "      <td>bigfoot come town ellwood citi pa caus big pro...</td>\n",
       "      <td>0</td>\n",
       "    </tr>\n",
       "    <tr>\n",
       "      <th>2</th>\n",
       "      <td>131074</td>\n",
       "      <td>altitud 18 000 feet alaska mount st elia desti...</td>\n",
       "      <td>0</td>\n",
       "    </tr>\n",
       "    <tr>\n",
       "      <th>3</th>\n",
       "      <td>196611</td>\n",
       "      <td>first special sinc 2003 ellen revisit road sta...</td>\n",
       "      <td>0</td>\n",
       "    </tr>\n",
       "    <tr>\n",
       "      <th>4</th>\n",
       "      <td>196613</td>\n",
       "      <td>mike sulley back monster univers fun fill week...</td>\n",
       "      <td>0</td>\n",
       "    </tr>\n",
       "    <tr>\n",
       "      <th>5</th>\n",
       "      <td>131080</td>\n",
       "      <td>ladi tremain steal fairi godmoth wand chang hi...</td>\n",
       "      <td>0</td>\n",
       "    </tr>\n",
       "    <tr>\n",
       "      <th>6</th>\n",
       "      <td>131084</td>\n",
       "      <td>film mix live action anim hui buh charact crea...</td>\n",
       "      <td>0</td>\n",
       "    </tr>\n",
       "    <tr>\n",
       "      <th>7</th>\n",
       "      <td>196621</td>\n",
       "      <td>beauti ballerina dancer adriana mena kendra ca...</td>\n",
       "      <td>0</td>\n",
       "    </tr>\n",
       "    <tr>\n",
       "      <th>8</th>\n",
       "      <td>131090</td>\n",
       "      <td>jona 18 year old repeat sever year educ accept...</td>\n",
       "      <td>0</td>\n",
       "    </tr>\n",
       "    <tr>\n",
       "      <th>9</th>\n",
       "      <td>196629</td>\n",
       "      <td>ex soldier turn mercenari john gold learn murd...</td>\n",
       "      <td>0</td>\n",
       "    </tr>\n",
       "  </tbody>\n",
       "</table>\n",
       "</div>"
      ],
      "text/plain": [
       "   movie_id                                              story  DramaGenre\n",
       "0    131072  girl alway tend fall love wrong guy meet one b...           0\n",
       "1    196609  bigfoot come town ellwood citi pa caus big pro...           0\n",
       "2    131074  altitud 18 000 feet alaska mount st elia desti...           0\n",
       "3    196611  first special sinc 2003 ellen revisit road sta...           0\n",
       "4    196613  mike sulley back monster univers fun fill week...           0\n",
       "5    131080  ladi tremain steal fairi godmoth wand chang hi...           0\n",
       "6    131084  film mix live action anim hui buh charact crea...           0\n",
       "7    196621  beauti ballerina dancer adriana mena kendra ca...           0\n",
       "8    131090  jona 18 year old repeat sever year educ accept...           0\n",
       "9    196629  ex soldier turn mercenari john gold learn murd...           0"
      ]
     },
     "execution_count": 14,
     "metadata": {},
     "output_type": "execute_result"
    }
   ],
   "source": [
    "# Step 3 & 4\n",
    "# Applying stemming approach\n",
    "from nltk.stem import PorterStemmer\n",
    "def stemming(text):\n",
    "    stemmer = PorterStemmer()\n",
    "    return \" \".join([stemmer.stem(w) for w in text.split()])\n",
    "\n",
    "story_stem = main_dataset.copy(deep=True)\n",
    "story_stem['story']= main_dataset[\"story\"].apply(stemming)\n",
    "story_stem.head(10)"
   ]
  },
  {
   "cell_type": "markdown",
   "metadata": {},
   "source": [
    "### Lemmatization"
   ]
  },
  {
   "cell_type": "code",
   "execution_count": 15,
   "metadata": {},
   "outputs": [
    {
     "data": {
      "text/html": [
       "<div>\n",
       "<style scoped>\n",
       "    .dataframe tbody tr th:only-of-type {\n",
       "        vertical-align: middle;\n",
       "    }\n",
       "\n",
       "    .dataframe tbody tr th {\n",
       "        vertical-align: top;\n",
       "    }\n",
       "\n",
       "    .dataframe thead th {\n",
       "        text-align: right;\n",
       "    }\n",
       "</style>\n",
       "<table border=\"1\" class=\"dataframe\">\n",
       "  <thead>\n",
       "    <tr style=\"text-align: right;\">\n",
       "      <th></th>\n",
       "      <th>movie_id</th>\n",
       "      <th>story</th>\n",
       "      <th>DramaGenre</th>\n",
       "    </tr>\n",
       "  </thead>\n",
       "  <tbody>\n",
       "    <tr>\n",
       "      <th>0</th>\n",
       "      <td>131072</td>\n",
       "      <td>girl always tends fall love wrong guy meet one...</td>\n",
       "      <td>0</td>\n",
       "    </tr>\n",
       "    <tr>\n",
       "      <th>1</th>\n",
       "      <td>196609</td>\n",
       "      <td>bigfoot come town ellwood city pa causing big ...</td>\n",
       "      <td>0</td>\n",
       "    </tr>\n",
       "    <tr>\n",
       "      <th>2</th>\n",
       "      <td>131074</td>\n",
       "      <td>altitude 18 000 foot alaska mount st elia dest...</td>\n",
       "      <td>0</td>\n",
       "    </tr>\n",
       "    <tr>\n",
       "      <th>3</th>\n",
       "      <td>196611</td>\n",
       "      <td>first special since 2003 ellen revisits road s...</td>\n",
       "      <td>0</td>\n",
       "    </tr>\n",
       "    <tr>\n",
       "      <th>4</th>\n",
       "      <td>196613</td>\n",
       "      <td>mike sulley back monster university fun filled...</td>\n",
       "      <td>0</td>\n",
       "    </tr>\n",
       "    <tr>\n",
       "      <th>5</th>\n",
       "      <td>131080</td>\n",
       "      <td>lady tremaine steal fairy godmother wand chang...</td>\n",
       "      <td>0</td>\n",
       "    </tr>\n",
       "    <tr>\n",
       "      <th>6</th>\n",
       "      <td>131084</td>\n",
       "      <td>film mix live action animation hui buh charact...</td>\n",
       "      <td>0</td>\n",
       "    </tr>\n",
       "    <tr>\n",
       "      <th>7</th>\n",
       "      <td>196621</td>\n",
       "      <td>beautiful ballerina dancer adriana mena kendra...</td>\n",
       "      <td>0</td>\n",
       "    </tr>\n",
       "    <tr>\n",
       "      <th>8</th>\n",
       "      <td>131090</td>\n",
       "      <td>jonas 18 year old repeat several year educatio...</td>\n",
       "      <td>0</td>\n",
       "    </tr>\n",
       "    <tr>\n",
       "      <th>9</th>\n",
       "      <td>196629</td>\n",
       "      <td>ex soldier turned mercenary john gold learns m...</td>\n",
       "      <td>0</td>\n",
       "    </tr>\n",
       "  </tbody>\n",
       "</table>\n",
       "</div>"
      ],
      "text/plain": [
       "   movie_id                                              story  DramaGenre\n",
       "0    131072  girl always tends fall love wrong guy meet one...           0\n",
       "1    196609  bigfoot come town ellwood city pa causing big ...           0\n",
       "2    131074  altitude 18 000 foot alaska mount st elia dest...           0\n",
       "3    196611  first special since 2003 ellen revisits road s...           0\n",
       "4    196613  mike sulley back monster university fun filled...           0\n",
       "5    131080  lady tremaine steal fairy godmother wand chang...           0\n",
       "6    131084  film mix live action animation hui buh charact...           0\n",
       "7    196621  beautiful ballerina dancer adriana mena kendra...           0\n",
       "8    131090  jonas 18 year old repeat several year educatio...           0\n",
       "9    196629  ex soldier turned mercenary john gold learns m...           0"
      ]
     },
     "execution_count": 15,
     "metadata": {},
     "output_type": "execute_result"
    }
   ],
   "source": [
    "# Step 3 & 4\n",
    "# Applying lemmatization method\n",
    "from nltk.stem import WordNetLemmatizer\n",
    "def lemmatization(text):\n",
    "    Lemmatizer = WordNetLemmatizer()\n",
    "    return \" \".join([Lemmatizer.lemmatize(w) for w in text.split()])\n",
    "\n",
    "story_lemma = main_dataset.copy(deep=True)\n",
    "story_lemma['story']= main_dataset[\"story\"].apply(lemmatization)\n",
    "story_lemma.head(10)"
   ]
  },
  {
   "cell_type": "code",
   "execution_count": 16,
   "metadata": {},
   "outputs": [],
   "source": [
    "# Step 3 & 4\n",
    "# Defining X and y\n",
    "X = main_dataset.story\n",
    "y = main_dataset.DramaGenre"
   ]
  },
  {
   "cell_type": "code",
   "execution_count": 17,
   "metadata": {},
   "outputs": [],
   "source": [
    "# Step 3 & 4\n",
    "#CountVectorizer for lemmatization and stemming words\n",
    "from sklearn.feature_extraction.text import CountVectorizer\n",
    "vect1 = CountVectorizer(ngram_range=(1,3)).fit(story_stem.story)    #CountVectorizer for stemming words\n",
    "CV_stem = vect1.transform(story_stem.story)\n",
    "\n",
    "vect2 = CountVectorizer(ngram_range=(1,3)).fit(story_lemma.story)   #CountVectorizer for lemmatization words\n",
    "CV_lemma = vect2.transform(story_lemma.story)\n",
    "\n",
    "#CountVectorizers with TruncatedSVD:\n",
    "from sklearn.decomposition import TruncatedSVD\n",
    "tsvd = TruncatedSVD(n_components = 100)\n",
    "CV_stem_tsvd = tsvd.fit_transform(CV_stem)                 # CountVectorizer with TSVD for stemming words\n",
    "CV_lemma_tsvd = tsvd.fit_transform(CV_lemma)                 # CountVectorizer with TSVD for lemmatization words"
   ]
  },
  {
   "cell_type": "code",
   "execution_count": 18,
   "metadata": {},
   "outputs": [],
   "source": [
    "# Step 3 & 4\n",
    "#TF-IDF Vectorizer for lemmatization and stemming words\n",
    "from sklearn.feature_extraction.text import TfidfVectorizer\n",
    "\n",
    "vect3 = TfidfVectorizer(ngram_range=(1,3)).fit(story_stem.story)\n",
    "TF_stem = vect3.transform(story_stem.story)\n",
    "\n",
    "vect4 = TfidfVectorizer(ngram_range=(1,3)).fit(story_lemma.story)\n",
    "TF_lemma = vect4.transform(story_lemma.story)\n",
    "\n",
    "#TF-IDF with TruncatedSVD:\n",
    "TF_stem_tsvd = tsvd.fit_transform(TF_stem)                 # TF-IDF with TSVD for stemming words\n",
    "TF_lemma_tsvd = tsvd.fit_transform(TF_lemma)                 # TF-IDF with TSVD for lemmatization words"
   ]
  },
  {
   "cell_type": "markdown",
   "metadata": {},
   "source": [
    "## <u>Building and Training Different Models</u>"
   ]
  },
  {
   "cell_type": "markdown",
   "metadata": {},
   "source": [
    "<p>Explanation: At first, we have imported, downloaded and installed all the necessary packages to build our models and to further test the performance of our models. We have used 6 supervised learning techniques to build the models: logistic regression, knn, random forest, sgd classifier, multinomial naive bayes and decision tree. We have created a function for each model to later call it for a smooth comparison purpose. We have used 70% of our data as training data and 30% as a test data keeping random state and <u>stratify=y</u> to to retain the same proportion of classes in the train and test sets that are found in the entire original dataset. Then, we have fitted our training dataset into the model and predicted y_test_hat. Atlast, we have done found the accuracy , classification report, stratified cross validation and mean accuracy scores to test the performance of individual model and for a logical comparison among all 6 models.</p>"
   ]
  },
  {
   "cell_type": "code",
   "execution_count": 19,
   "metadata": {},
   "outputs": [],
   "source": [
    "# Step 3 & 4\n",
    "# Importing all the necessary packages for model building and testing\n",
    "from sklearn.model_selection import GridSearchCV\n",
    "from sklearn.linear_model import LogisticRegression\n",
    "from sklearn.linear_model import SGDClassifier\n",
    "from sklearn.ensemble import RandomForestClassifier\n",
    "from sklearn.neighbors import KNeighborsClassifier\n",
    "from sklearn.model_selection import StratifiedKFold\n",
    "from sklearn.model_selection import cross_val_score\n",
    "from sklearn.naive_bayes import MultinomialNB\n",
    "from sklearn.tree import DecisionTreeClassifier\n",
    "from sklearn.model_selection import train_test_split\n",
    "from sklearn.metrics import accuracy_score, precision_score, recall_score, f1_score\n",
    "from sklearn.metrics import classification_report, confusion_matrix"
   ]
  },
  {
   "cell_type": "markdown",
   "metadata": {},
   "source": [
    "### 1. Logistic Regression Model:"
   ]
  },
  {
   "cell_type": "code",
   "execution_count": 20,
   "metadata": {},
   "outputs": [],
   "source": [
    "from sklearn.model_selection import GridSearchCV\n",
    "grid={\"C\":[1, 10, 100], \"penalty\":[\"l2\"], \"solver\":['liblinear','newton-cg','sag'], 'class_weight':[{ 0:0.95, 1:0.05 }, { 0:0.55, 1:0.45 }, { 0:0.45, 1:0.55 }]}# l1 lasso l2 ridge\n",
    "logreg=LogisticRegression()\n",
    "logreg_cv=GridSearchCV(logreg,grid,cv=3,scoring='f1_micro')\n",
    "result=logreg_cv.fit(CV_stem, y)\n",
    "print(result.best_params_)\n",
    "#Best Parameter: solver = 'sag'"
   ]
  },
  {
   "cell_type": "code",
   "execution_count": 21,
   "metadata": {},
   "outputs": [],
   "source": [
    "def logreg(X,y):\n",
    "    X_train, X_test, y_train, y_test = train_test_split(X, y, test_size=0.3, random_state=0, stratify=y)\n",
    "    model = LogisticRegression(max_iter=1000, solver='sag')\n",
    "    model.fit(X_train,y_train)\n",
    "    y_test_hat = model.predict(X_test)\n",
    "    print('accuracy_score is: ',accuracy_score(y_test,y_test_hat))\n",
    "    print('Classification Report: \\n',classification_report(y_test,y_test_hat))\n",
    "    \n",
    "    cv = StratifiedKFold(n_splits=5, random_state=0, shuffle=True)\n",
    "    accuracy = cross_val_score(model, X, y, cv=cv, scoring='accuracy')\n",
    "    print(\"Stratified Cross Validation Scores: {}\".format(accuracy))\n",
    "    print(\"Mean Accuracy Score: {}\".format(np.mean(accuracy)))"
   ]
  },
  {
   "cell_type": "markdown",
   "metadata": {},
   "source": [
    "### 2. KNN Model:"
   ]
  },
  {
   "cell_type": "code",
   "execution_count": 22,
   "metadata": {},
   "outputs": [
    {
     "name": "stdout",
     "output_type": "stream",
     "text": [
      "Best Parameter: {'n_neighbors': 5}\n",
      "Best Cross Vlidation Score: 0.5560266524419414\n"
     ]
    }
   ],
   "source": [
    "Xk_train, Xk_test, yk_train, yk_test = train_test_split(CV_lemma, y, test_size=0.3, random_state=0)\n",
    "model_k = KNeighborsClassifier()\n",
    "param_grid = {'n_neighbors': [1,2,3,4,5,6,7]}\n",
    "cv = StratifiedKFold(n_splits=5, random_state=0, shuffle=True)\n",
    "grid = GridSearchCV(model_k, param_grid, cv = cv, scoring='accuracy',\n",
    "            return_train_score=True)\n",
    "grid.fit(Xk_train, yk_train)\n",
    "\n",
    "print(\"Best Parameter: {}\".format(grid.best_params_))\n",
    "print(\"Best Cross Vlidation Score: {}\".format(grid.best_score_))"
   ]
  },
  {
   "cell_type": "code",
   "execution_count": 23,
   "metadata": {},
   "outputs": [],
   "source": [
    "def KNN(X,y):\n",
    "    X_train, X_test, y_train, y_test = train_test_split(X, y, test_size=0.3, random_state=0, stratify=y)\n",
    "    model = KNeighborsClassifier(n_neighbors=5)\n",
    "    model.fit(X_train, y_train);\n",
    "    y_test_hat = model.predict(X_test)\n",
    "    print('accuracy_score is: ',accuracy_score(y_test,y_test_hat))\n",
    "    print('Classification Report: \\n',classification_report(y_test,y_test_hat))   "
   ]
  },
  {
   "cell_type": "markdown",
   "metadata": {},
   "source": [
    "### 3. Random Forest Model:"
   ]
  },
  {
   "cell_type": "code",
   "execution_count": 24,
   "metadata": {},
   "outputs": [],
   "source": [
    "def rf(X,y):\n",
    "    X_train, X_test, y_train, y_test = train_test_split(X, y, test_size=0.3, random_state=0, stratify=y)\n",
    "    model=RandomForestClassifier(n_estimators=100, random_state=0)\n",
    "    model.fit(X_train,y_train)\n",
    "    y_test_hat = model.predict(X_test)\n",
    "    print('accuracy_score is: ',accuracy_score(y_test,y_test_hat))\n",
    "    print('Classification Report: \\n',classification_report(y_test,y_test_hat))\n",
    "\n",
    "    cv = StratifiedKFold(n_splits=5, random_state=0, shuffle=True)\n",
    "    accuracy = cross_val_score(model, X, y, cv=cv, scoring='accuracy')\n",
    "    print(\"Stratified Cross Validation Scores: {}\".format(accuracy))\n",
    "    print(\"Mean Accuracy Score: {}\".format(np.mean(accuracy)))"
   ]
  },
  {
   "cell_type": "markdown",
   "metadata": {},
   "source": [
    "### 4. Stochastic Gradient Descent Classifier Model:"
   ]
  },
  {
   "cell_type": "code",
   "execution_count": 25,
   "metadata": {},
   "outputs": [],
   "source": [
    "def sgdc(X,y):\n",
    "    X_train, X_test, y_train, y_test = train_test_split(X, y, test_size=0.3, random_state=0, stratify=y)\n",
    "    model = SGDClassifier(max_iter=1000)\n",
    "    model.fit(X_train, y_train)\n",
    "    y_test_hat = model.predict(X_test)\n",
    "    print('accuracy_score is: ',accuracy_score(y_test,y_test_hat))\n",
    "    print('Classification Report: \\n',classification_report(y_test,y_test_hat))\n",
    "          \n",
    "    cv = StratifiedKFold(n_splits=5, random_state=0, shuffle=True)\n",
    "    accuracy = cross_val_score(model, X, y, cv=cv, scoring='accuracy')\n",
    "    print(\"Stratified Cross Validation Scores: {}\".format(accuracy))\n",
    "    print(\"Mean Accuracy Score: {}\".format(np.mean(accuracy)))"
   ]
  },
  {
   "cell_type": "markdown",
   "metadata": {},
   "source": [
    "### 5. Multinomial Naive Bayes Model:"
   ]
  },
  {
   "cell_type": "code",
   "execution_count": 26,
   "metadata": {},
   "outputs": [],
   "source": [
    "def MNB(X,y):\n",
    "    X_train, X_test, y_train, y_test = train_test_split(X, y, test_size=0.3, random_state=0, stratify=y)\n",
    "    model= MultinomialNB()\n",
    "    model.fit(X_train, y_train)\n",
    "    y_test_hat = model.predict(X_test)\n",
    "    print('accuracy_score is: ',accuracy_score(y_test,y_test_hat))\n",
    "    print('Classification Report: \\n',classification_report(y_test,y_test_hat))\n",
    "          \n",
    "    cv = StratifiedKFold(n_splits=5, random_state=0, shuffle=True)\n",
    "    accuracy = cross_val_score(model, X, y, cv=cv, scoring='accuracy')\n",
    "    print(\"Stratified Cross Validation Scores: {}\".format(accuracy))\n",
    "    print(\"Mean Accuracy Score: {}\".format(np.mean(accuracy)))    "
   ]
  },
  {
   "cell_type": "markdown",
   "metadata": {},
   "source": [
    "### 6. Decision Tree Model:"
   ]
  },
  {
   "cell_type": "code",
   "execution_count": 27,
   "metadata": {},
   "outputs": [],
   "source": [
    "def Tree(X,y):\n",
    "    X_train, X_test, y_train, y_test = train_test_split(X, y, test_size=0.3, random_state=0)\n",
    "    model = DecisionTreeClassifier()\n",
    "    model.fit(X_train,y_train)\n",
    "    y_test_hat = model.predict(X_test)\n",
    "    print('accuracy_score is: ',accuracy_score(y_test,y_test_hat))\n",
    "    print('Classification Report: \\n',classification_report(y_test,y_test_hat))\n",
    "          \n",
    "    cv = StratifiedKFold(n_splits=5, random_state=0, shuffle=True)\n",
    "    accuracy = cross_val_score(model, X, y, cv=cv, scoring='accuracy')\n",
    "    print(\"Stratified Cross Validation Scores: {}\".format(accuracy))\n",
    "    print(\"Mean Accuracy Score: {}\".format(np.mean(accuracy))) "
   ]
  },
  {
   "cell_type": "markdown",
   "metadata": {},
   "source": [
    "<b>Running all 8 Logistic Regression models</b>"
   ]
  },
  {
   "cell_type": "code",
   "execution_count": 28,
   "metadata": {},
   "outputs": [
    {
     "name": "stdout",
     "output_type": "stream",
     "text": [
      "For CV_stem:\n",
      "accuracy_score is:  0.6970499911676382\n",
      "Classification Report: \n",
      "               precision    recall  f1-score   support\n",
      "\n",
      "           0       0.72      0.75      0.73      3140\n",
      "           1       0.67      0.63      0.65      2521\n",
      "\n",
      "    accuracy                           0.70      5661\n",
      "   macro avg       0.69      0.69      0.69      5661\n",
      "weighted avg       0.70      0.70      0.70      5661\n",
      "\n",
      "Stratified Cross Validation Scores: [0.70164282 0.69475358 0.70058294 0.70349762 0.70553936]\n",
      "Mean Accuracy Score: 0.7012032612272708\n",
      "\n",
      "For CV_lemma:\n",
      "accuracy_score is:  0.6988164635223458\n",
      "Classification Report: \n",
      "               precision    recall  f1-score   support\n",
      "\n",
      "           0       0.72      0.75      0.73      3140\n",
      "           1       0.67      0.64      0.65      2521\n",
      "\n",
      "    accuracy                           0.70      5661\n",
      "   macro avg       0.70      0.69      0.69      5661\n",
      "weighted avg       0.70      0.70      0.70      5661\n",
      "\n",
      "Stratified Cross Validation Scores: [0.69687334 0.69501855 0.69660837 0.70985692 0.71296051]\n",
      "Mean Accuracy Score: 0.7022635379177996\n",
      "\n",
      "For CV_stem_tsvd:\n",
      "accuracy_score is:  0.6657834304893129\n",
      "Classification Report: \n",
      "               precision    recall  f1-score   support\n",
      "\n",
      "           0       0.68      0.75      0.71      3140\n",
      "           1       0.64      0.56      0.60      2521\n",
      "\n",
      "    accuracy                           0.67      5661\n",
      "   macro avg       0.66      0.66      0.66      5661\n",
      "weighted avg       0.66      0.67      0.66      5661\n",
      "\n",
      "Stratified Cross Validation Scores: [0.67647059 0.6581876  0.66587175 0.67594065 0.66869865]\n",
      "Mean Accuracy Score: 0.6690338473051558\n",
      "\n",
      "For CV_lemma_tsvd:\n",
      "accuracy_score is:  0.6671966083730789\n",
      "Classification Report: \n",
      "               precision    recall  f1-score   support\n",
      "\n",
      "           0       0.68      0.75      0.71      3140\n",
      "           1       0.65      0.56      0.60      2521\n",
      "\n",
      "    accuracy                           0.67      5661\n",
      "   macro avg       0.66      0.66      0.66      5661\n",
      "weighted avg       0.67      0.67      0.66      5661\n",
      "\n",
      "Stratified Cross Validation Scores: [0.66295707 0.65341812 0.65871754 0.67965024 0.67240922]\n",
      "Mean Accuracy Score: 0.6654304403404043\n",
      "\n",
      "For TF_stem:\n",
      "accuracy_score is:  0.6815050344462109\n",
      "Classification Report: \n",
      "               precision    recall  f1-score   support\n",
      "\n",
      "           0       0.67      0.86      0.75      3140\n",
      "           1       0.72      0.46      0.57      2521\n",
      "\n",
      "    accuracy                           0.68      5661\n",
      "   macro avg       0.69      0.66      0.66      5661\n",
      "weighted avg       0.69      0.68      0.67      5661\n",
      "\n",
      "Stratified Cross Validation Scores: [0.69077901 0.6791203  0.68706942 0.69369369 0.69520276]\n",
      "Mean Accuracy Score: 0.6891730367120523\n",
      "\n",
      "For TF_lemma:\n",
      "accuracy_score is:  0.6779720897367956\n",
      "Classification Report: \n",
      "               precision    recall  f1-score   support\n",
      "\n",
      "           0       0.66      0.86      0.75      3140\n",
      "           1       0.72      0.45      0.56      2521\n",
      "\n",
      "    accuracy                           0.68      5661\n",
      "   macro avg       0.69      0.66      0.65      5661\n",
      "weighted avg       0.69      0.68      0.66      5661\n",
      "\n",
      "Stratified Cross Validation Scores: [0.68574457 0.67488076 0.68150503 0.68521463 0.69122714]\n",
      "Mean Accuracy Score: 0.6837144264515213\n",
      "\n",
      "For TF_stem_tsvd:\n",
      "accuracy_score is:  0.6712594947889066\n",
      "Classification Report: \n",
      "               precision    recall  f1-score   support\n",
      "\n",
      "           0       0.66      0.83      0.74      3140\n",
      "           1       0.69      0.48      0.56      2521\n",
      "\n",
      "    accuracy                           0.67      5661\n",
      "   macro avg       0.68      0.65      0.65      5661\n",
      "weighted avg       0.68      0.67      0.66      5661\n",
      "\n",
      "Stratified Cross Validation Scores: [0.6772655  0.66719661 0.67143614 0.67832538 0.67850517]\n",
      "Mean Accuracy Score: 0.6745457607402386\n",
      "\n",
      "For TF_lemma_tsvd:\n",
      "accuracy_score is:  0.6705529058470235\n",
      "Classification Report: \n",
      "               precision    recall  f1-score   support\n",
      "\n",
      "           0       0.66      0.83      0.74      3140\n",
      "           1       0.69      0.47      0.56      2521\n",
      "\n",
      "    accuracy                           0.67      5661\n",
      "   macro avg       0.68      0.65      0.65      5661\n",
      "weighted avg       0.67      0.67      0.66      5661\n",
      "\n",
      "Stratified Cross Validation Scores: [0.66613672 0.66401696 0.66613672 0.67196608 0.67346939]\n",
      "Mean Accuracy Score: 0.6683451759082011\n"
     ]
    }
   ],
   "source": [
    "print('For CV_stem:')\n",
    "logreg(CV_stem, y)\n",
    "print('\\nFor CV_lemma:')\n",
    "logreg(CV_lemma, y)\n",
    "print('\\nFor CV_stem_tsvd:')\n",
    "logreg(CV_stem_tsvd, y)\n",
    "print('\\nFor CV_lemma_tsvd:')\n",
    "logreg(CV_lemma_tsvd, y)\n",
    "print('\\nFor TF_stem:')\n",
    "logreg(TF_stem, y)\n",
    "print('\\nFor TF_lemma:')\n",
    "logreg(TF_lemma, y)\n",
    "print('\\nFor TF_stem_tsvd:')\n",
    "logreg(TF_stem_tsvd, y)\n",
    "print('\\nFor TF_lemma_tsvd:')\n",
    "logreg(TF_lemma_tsvd, y)"
   ]
  },
  {
   "cell_type": "markdown",
   "metadata": {},
   "source": [
    "<p>In this step, we have called all 8 logistic regression models and summarized the mean accuracy score in below table. After in depth analysis of all the performance scores, we can clearly notice that CV_lemma is the best model with highest mean accuracy of 70.22%. Now lets compare this model with other models' performance.</p>"
   ]
  },
  {
   "cell_type": "markdown",
   "metadata": {},
   "source": [
    "<table style=\"width:400px;height:200px;border:1px black solid; background-color:white\">\n",
    "    <tr style=\"background-color:white\">\n",
    "        <th style=\"text-align:left;border:1px black solid\">logreg(CV_stemma)</th>\n",
    "        <td style=\"text-align:center;border:1px black solid\"><b>70.12%</b></td>\n",
    "     </tr>\n",
    "    <tr style=\"background-color:white\">\n",
    "        <th style=\"text-align:left;border:1px black solid\">logreg(CV_lemma)</th>\n",
    "        <td style=\"text-align:center;border:1px black solid\"><b>70.22%</b></td>\n",
    "    </tr>\n",
    "    <tr style=\"background-color:white\">\n",
    "        <th style=\"text-align:left;border:1px black solid\">logreg(CV_stem_tsvd)</th>\n",
    "        <td style=\"text-align:center;border:1px black solid\"><b>66.90%</b></td>\n",
    "    </tr>\n",
    "    <tr style=\"background-color:white\">\n",
    "        <th style=\"text-align:left;border:1px black solid\">logreg(CV_lemma_tsvd)</th>\n",
    "        <td style=\"text-align:center;border:1px black solid\"><b>66.54%</b></td>\n",
    "    </tr>\n",
    "    <tr style=\"background-color:white\">\n",
    "        <th style=\"text-align:left;border:1px black solid\">logreg(TF_stem)</th>\n",
    "        <td style=\"text-align:center;border:1px black solid\"><b>68.92%</b></td>\n",
    "    </tr>\n",
    "    <tr style=\"background-color:white\">\n",
    "        <th style=\"text-align:left;border:1px black solid\"><b>logreg(TF_lemma)</b></th>\n",
    "        <td style=\"text-align:center;border:1px black solid\"><b>68.37%</b></td>\n",
    "    </tr>\n",
    "    <tr style=\"background-color:white\">\n",
    "        <th style=\"text-align:left;border:1px black solid\"><b>logreg(TF_stem_tsvd)</b></th>\n",
    "        <td style=\"text-align:center;border:1px black solid\"><b>67.45%</b></td>\n",
    "    </tr>\n",
    "    <tr style=\"background-color:white\">\n",
    "        <th style=\"text-align:left;border:1px black solid\"><b>logreg(TF_lemma_tsvd)</b></th>\n",
    "        <td style=\"text-align:center;border:1px black solid\"><b>66.83%</b></td>\n",
    "    </tr>\n",
    "</table>"
   ]
  },
  {
   "cell_type": "markdown",
   "metadata": {},
   "source": [
    "<b>Running all the models with CV_lemma</b>"
   ]
  },
  {
   "cell_type": "markdown",
   "metadata": {},
   "source": [
    "<p>As CV_lemma has the best results so we have run all the models using CV_lemma next.</p>"
   ]
  },
  {
   "cell_type": "code",
   "execution_count": 30,
   "metadata": {},
   "outputs": [
    {
     "name": "stdout",
     "output_type": "stream",
     "text": [
      "For KNN:\n",
      "accuracy_score is:  0.5560854972619679\n",
      "Classification Report: \n",
      "               precision    recall  f1-score   support\n",
      "\n",
      "           0       0.56      0.98      0.71      3140\n",
      "           1       0.53      0.03      0.06      2521\n",
      "\n",
      "    accuracy                           0.56      5661\n",
      "   macro avg       0.54      0.50      0.38      5661\n",
      "weighted avg       0.54      0.56      0.42      5661\n",
      "\n",
      "\n",
      "For Random Forest:\n",
      "accuracy_score is:  0.6841547429782724\n",
      "Classification Report: \n",
      "               precision    recall  f1-score   support\n",
      "\n",
      "           0       0.69      0.79      0.73      3140\n",
      "           1       0.68      0.56      0.61      2521\n",
      "\n",
      "    accuracy                           0.68      5661\n",
      "   macro avg       0.68      0.67      0.67      5661\n",
      "weighted avg       0.68      0.68      0.68      5661\n",
      "\n",
      "Stratified Cross Validation Scores: [0.66931638 0.67249603 0.67461579 0.68918919 0.6954678 ]\n",
      "Mean Accuracy Score: 0.6802170359193168\n",
      "\n",
      "For SGDClassifier:\n",
      "accuracy_score is:  0.6875110404522169\n",
      "Classification Report: \n",
      "               precision    recall  f1-score   support\n",
      "\n",
      "           0       0.71      0.73      0.72      3140\n",
      "           1       0.66      0.63      0.64      2521\n",
      "\n",
      "    accuracy                           0.69      5661\n",
      "   macro avg       0.68      0.68      0.68      5661\n",
      "weighted avg       0.69      0.69      0.69      5661\n",
      "\n",
      "Stratified Cross Validation Scores: [0.69448861 0.68680445 0.69316375 0.70190779 0.70978002]\n",
      "Mean Accuracy Score: 0.6972289231592953\n",
      "\n",
      "For MultinomialNB:\n",
      "accuracy_score is:  0.6928104575163399\n",
      "Classification Report: \n",
      "               precision    recall  f1-score   support\n",
      "\n",
      "           0       0.76      0.65      0.70      3140\n",
      "           1       0.63      0.74      0.68      2521\n",
      "\n",
      "    accuracy                           0.69      5661\n",
      "   macro avg       0.70      0.70      0.69      5661\n",
      "weighted avg       0.70      0.69      0.69      5661\n",
      "\n",
      "Stratified Cross Validation Scores: [0.69210387 0.68706942 0.68441971 0.69077901 0.70182878]\n",
      "Mean Accuracy Score: 0.6912401605078676\n",
      "\n",
      "For Decision Tree:\n",
      "accuracy_score is:  0.6127892598480834\n",
      "Classification Report: \n",
      "               precision    recall  f1-score   support\n",
      "\n",
      "           0       0.66      0.63      0.64      3130\n",
      "           1       0.56      0.59      0.58      2531\n",
      "\n",
      "    accuracy                           0.61      5661\n",
      "   macro avg       0.61      0.61      0.61      5661\n",
      "weighted avg       0.61      0.61      0.61      5661\n",
      "\n",
      "Stratified Cross Validation Scores: [0.61314255 0.61473238 0.6054584  0.61340753 0.60561887]\n",
      "Mean Accuracy Score: 0.6104719458861114\n"
     ]
    }
   ],
   "source": [
    "print('For KNN:')\n",
    "KNN(CV_lemma,y)\n",
    "print('\\nFor Random Forest:')\n",
    "rf(CV_lemma, y)\n",
    "print('\\nFor SGDClassifier:')\n",
    "sgdc(CV_lemma, y)\n",
    "print('\\nFor MultinomialNB:')\n",
    "MNB(CV_lemma, y)\n",
    "print('\\nFor Decision Tree:')\n",
    "Tree(CV_lemma, y)"
   ]
  },
  {
   "cell_type": "markdown",
   "metadata": {},
   "source": [
    "<p>We have summarized the performance of all 6 models in below table. And we can see that logistic regression is our best model with highest accuracy of 70.22%.</p>"
   ]
  },
  {
   "cell_type": "markdown",
   "metadata": {},
   "source": [
    "<table style=\"width:400px;height:200px;border:1px black solid; background-color:white\">\n",
    "    <tr style=\"background-color:white\">\n",
    "        <th style=\"text-align:left;border:1px black solid\">Logistice Regression Model</th>\n",
    "        <td style=\"text-align:center;border:1px black solid\"><b>70.22%</b></td>\n",
    "    </tr>\n",
    "    <tr style=\"background-color:white\">\n",
    "        <th style=\"text-align:left;border:1px black solid\">KNN Model</th>\n",
    "        <td style=\"text-align:center;border:1px black solid\"><b>55.61%</b></td>\n",
    "    </tr>\n",
    "    <tr style=\"background-color:white\">\n",
    "        <th style=\"text-align:left;border:1px black solid\">Random Forest Model</th>\n",
    "        <td style=\"text-align:center;border:1px black solid\"><b>68.02%</b></td>\n",
    "    </tr>\n",
    "    <tr style=\"background-color:white\">\n",
    "        <th style=\"text-align:left;border:1px black solid\">SGD Classifier Model</th>\n",
    "        <td style=\"text-align:center;border:1px black solid\"><b>69.72%</b></td>\n",
    "    </tr>\n",
    "    <tr style=\"background-color:white\">\n",
    "        <th style=\"text-align:left;border:1px black solid\">Multinomial NB Model</th>\n",
    "        <td style=\"text-align:center;border:1px black solid\"><b>69.12%</b></td>\n",
    "    </tr>\n",
    "    <tr style=\"background-color:white\">\n",
    "        <th style=\"text-align:left;border:1px black solid\"><b>Decision Tree Model</b></th>\n",
    "        <td style=\"text-align:center;border:1px black solid\"><b>61.05%</b></td>\n",
    "    </tr>\n",
    "</table>"
   ]
  },
  {
   "cell_type": "markdown",
   "metadata": {},
   "source": [
    "### Topic Modeling"
   ]
  },
  {
   "cell_type": "code",
   "execution_count": 31,
   "metadata": {},
   "outputs": [
    {
     "name": "stdout",
     "output_type": "stream",
     "text": [
      "Best parameters:  {'n_neighbors': 5}\n"
     ]
    }
   ],
   "source": [
    "# Applying Latent Dirichlet Allocation for Topic Modeling\n",
    "from sklearn.decomposition import LatentDirichletAllocation\n",
    "vect5 = CountVectorizer(max_features=50, max_df=.60, \n",
    "                       stop_words=\"english\")\n",
    "LDA_lemma = vect5.fit_transform(story_lemma.story)\n",
    "param_grid= {'n_components':[2,5,10,25]}\n",
    "lda_search = LatentDirichletAllocation(learning_method=\"batch\", #n_components: number of clusters (topics) we want\n",
    "                                max_iter=50, random_state=0)\n",
    "grid_lda = GridSearchCV(lda_search, param_grid, cv=5) \n",
    "grid_lda.fit(LDA_lemma, y)\n",
    "\n",
    "print(\"Best parameters: \", grid.best_params_) "
   ]
  },
  {
   "cell_type": "code",
   "execution_count": 32,
   "metadata": {},
   "outputs": [],
   "source": [
    "lda = LatentDirichletAllocation(n_components=5, learning_method=\"batch\",\n",
    "                                max_iter=50, random_state=0) \n",
    "document_topics = lda.fit_transform(LDA_lemma)"
   ]
  },
  {
   "cell_type": "code",
   "execution_count": 33,
   "metadata": {},
   "outputs": [
    {
     "name": "stdout",
     "output_type": "stream",
     "text": [
      "accuracy_score is:  0.5859388800565272\n",
      "Classification Report: \n",
      "               precision    recall  f1-score   support\n",
      "\n",
      "           0       0.60      0.78      0.68      3140\n",
      "           1       0.56      0.34      0.43      2521\n",
      "\n",
      "    accuracy                           0.59      5661\n",
      "   macro avg       0.58      0.56      0.55      5661\n",
      "weighted avg       0.58      0.59      0.56      5661\n",
      "\n",
      "Stratified Cross Validation Scores: [0.6036036  0.58108108 0.58585056 0.59009009 0.58945136]\n",
      "Mean Accuracy Score: 0.5900153392350271\n"
     ]
    }
   ],
   "source": [
    "logreg(document_topics,y)"
   ]
  },
  {
   "cell_type": "markdown",
   "metadata": {},
   "source": [
    "<p>We also wanted to expore further by applying topic modeling techniques does our model accuracy improves or not. But the result doesn't improve and the mean accuracy is quite low around 59%.</p>"
   ]
  },
  {
   "cell_type": "markdown",
   "metadata": {},
   "source": [
    "### Word Embedding"
   ]
  },
  {
   "cell_type": "code",
   "execution_count": 38,
   "metadata": {},
   "outputs": [
    {
     "name": "stderr",
     "output_type": "stream",
     "text": [
      "400000it [00:08, 48811.79it/s]\n"
     ]
    }
   ],
   "source": [
    "# Applying word embedding method\n",
    "from tqdm import tqdm\n",
    "embeddings_index = dict()\n",
    "f = open('glove.6B/glove.6B.50d.txt',encoding='utf8')\n",
    "for line in tqdm(f):\n",
    "    values = line.split()\n",
    "    word = values[0]\n",
    "    coefs = np.asarray(values[1:], dtype='float32')\n",
    "    embeddings_index[word] = coefs\n",
    "f.close()"
   ]
  },
  {
   "cell_type": "code",
   "execution_count": 50,
   "metadata": {},
   "outputs": [
    {
     "name": "stderr",
     "output_type": "stream",
     "text": [
      "100%|████████████████████████████████████████████████████████████████████████| 18869/18869 [00:00<00:00, 214458.66it/s]\n"
     ]
    }
   ],
   "source": [
    "from nltk.tokenize import word_tokenize\n",
    "from nltk.corpus import stopwords\n",
    "WE_inp = story_lemma.story\n",
    "embeddings = []\n",
    "for review in tqdm(WE_inp):\n",
    "    #review = review.decode(\"utf-8\")\n",
    "    base_embedding = np.zeros((50,))\n",
    "    word_count = 0\n",
    "#     for token in word_tokenize(review):\n",
    "#         token = token.lower()\n",
    "#         if token in stopwords.words('english'):\n",
    "#             continue\n",
    "    try:\n",
    "        base_embedding += embeddings_index[token]\n",
    "        word_count +=1\n",
    "    except:\n",
    "        continue\n",
    "    base_embedding = base_embedding/word_count\n",
    "    embeddings.append(base_embedding)"
   ]
  },
  {
   "cell_type": "code",
   "execution_count": 51,
   "metadata": {},
   "outputs": [
    {
     "data": {
      "text/plain": [
       "(18869, 50)"
      ]
     },
     "execution_count": 51,
     "metadata": {},
     "output_type": "execute_result"
    }
   ],
   "source": [
    "WE_out = np.array(embeddings)\n",
    "WE_out.shape"
   ]
  },
  {
   "cell_type": "code",
   "execution_count": 52,
   "metadata": {},
   "outputs": [
    {
     "data": {
      "text/plain": [
       "(18869,)"
      ]
     },
     "execution_count": 52,
     "metadata": {},
     "output_type": "execute_result"
    }
   ],
   "source": [
    "y.shape"
   ]
  },
  {
   "cell_type": "code",
   "execution_count": 53,
   "metadata": {},
   "outputs": [
    {
     "name": "stderr",
     "output_type": "stream",
     "text": [
      "C:\\Users\\srava\\anaconda3\\lib\\site-packages\\sklearn\\linear_model\\_sag.py:350: ConvergenceWarning: The max_iter was reached which means the coef_ did not converge\n",
      "  warnings.warn(\n",
      "C:\\Users\\srava\\anaconda3\\lib\\site-packages\\sklearn\\metrics\\_classification.py:1334: UndefinedMetricWarning: Precision and F-score are ill-defined and being set to 0.0 in labels with no predicted samples. Use `zero_division` parameter to control this behavior.\n",
      "  _warn_prf(average, modifier, msg_start, len(result))\n",
      "C:\\Users\\srava\\anaconda3\\lib\\site-packages\\sklearn\\metrics\\_classification.py:1334: UndefinedMetricWarning: Precision and F-score are ill-defined and being set to 0.0 in labels with no predicted samples. Use `zero_division` parameter to control this behavior.\n",
      "  _warn_prf(average, modifier, msg_start, len(result))\n",
      "C:\\Users\\srava\\anaconda3\\lib\\site-packages\\sklearn\\metrics\\_classification.py:1334: UndefinedMetricWarning: Precision and F-score are ill-defined and being set to 0.0 in labels with no predicted samples. Use `zero_division` parameter to control this behavior.\n",
      "  _warn_prf(average, modifier, msg_start, len(result))\n"
     ]
    },
    {
     "name": "stdout",
     "output_type": "stream",
     "text": [
      "accuracy_score is:  0.5546723193782017\n",
      "Classification Report: \n",
      "               precision    recall  f1-score   support\n",
      "\n",
      "           0       0.55      1.00      0.71      3140\n",
      "           1       0.00      0.00      0.00      2521\n",
      "\n",
      "    accuracy                           0.55      5661\n",
      "   macro avg       0.28      0.50      0.36      5661\n",
      "weighted avg       0.31      0.55      0.40      5661\n",
      "\n"
     ]
    },
    {
     "name": "stderr",
     "output_type": "stream",
     "text": [
      "C:\\Users\\srava\\anaconda3\\lib\\site-packages\\sklearn\\linear_model\\_sag.py:350: ConvergenceWarning: The max_iter was reached which means the coef_ did not converge\n",
      "  warnings.warn(\n",
      "C:\\Users\\srava\\anaconda3\\lib\\site-packages\\sklearn\\linear_model\\_sag.py:350: ConvergenceWarning: The max_iter was reached which means the coef_ did not converge\n",
      "  warnings.warn(\n",
      "C:\\Users\\srava\\anaconda3\\lib\\site-packages\\sklearn\\linear_model\\_sag.py:350: ConvergenceWarning: The max_iter was reached which means the coef_ did not converge\n",
      "  warnings.warn(\n",
      "C:\\Users\\srava\\anaconda3\\lib\\site-packages\\sklearn\\linear_model\\_sag.py:350: ConvergenceWarning: The max_iter was reached which means the coef_ did not converge\n",
      "  warnings.warn(\n"
     ]
    },
    {
     "name": "stdout",
     "output_type": "stream",
     "text": [
      "Stratified Cross Validation Scores: [0.55484897 0.55484897 0.554584   0.554584   0.55473098]\n",
      "Mean Accuracy Score: 0.5547193816101379\n"
     ]
    },
    {
     "name": "stderr",
     "output_type": "stream",
     "text": [
      "C:\\Users\\srava\\anaconda3\\lib\\site-packages\\sklearn\\linear_model\\_sag.py:350: ConvergenceWarning: The max_iter was reached which means the coef_ did not converge\n",
      "  warnings.warn(\n"
     ]
    }
   ],
   "source": [
    "logreg(WE_out,y)"
   ]
  },
  {
   "cell_type": "markdown",
   "metadata": {},
   "source": [
    "<p>Last but not the least, we have implemented word embedding method but this techniques also doesn't enhance our accuracy score, providing a mean accuracy of 55.47%.</p>"
   ]
  },
  {
   "cell_type": "markdown",
   "metadata": {},
   "source": [
    "## <u>Applying Full Data to Train the Best Model</u>"
   ]
  },
  {
   "cell_type": "markdown",
   "metadata": {},
   "source": [
    "<p>Here, we have applied our full data set to train the best model.</p>"
   ]
  },
  {
   "cell_type": "code",
   "execution_count": 54,
   "metadata": {},
   "outputs": [
    {
     "data": {
      "text/html": [
       "<style>#sk-container-id-1 {color: black;background-color: white;}#sk-container-id-1 pre{padding: 0;}#sk-container-id-1 div.sk-toggleable {background-color: white;}#sk-container-id-1 label.sk-toggleable__label {cursor: pointer;display: block;width: 100%;margin-bottom: 0;padding: 0.3em;box-sizing: border-box;text-align: center;}#sk-container-id-1 label.sk-toggleable__label-arrow:before {content: \"▸\";float: left;margin-right: 0.25em;color: #696969;}#sk-container-id-1 label.sk-toggleable__label-arrow:hover:before {color: black;}#sk-container-id-1 div.sk-estimator:hover label.sk-toggleable__label-arrow:before {color: black;}#sk-container-id-1 div.sk-toggleable__content {max-height: 0;max-width: 0;overflow: hidden;text-align: left;background-color: #f0f8ff;}#sk-container-id-1 div.sk-toggleable__content pre {margin: 0.2em;color: black;border-radius: 0.25em;background-color: #f0f8ff;}#sk-container-id-1 input.sk-toggleable__control:checked~div.sk-toggleable__content {max-height: 200px;max-width: 100%;overflow: auto;}#sk-container-id-1 input.sk-toggleable__control:checked~label.sk-toggleable__label-arrow:before {content: \"▾\";}#sk-container-id-1 div.sk-estimator input.sk-toggleable__control:checked~label.sk-toggleable__label {background-color: #d4ebff;}#sk-container-id-1 div.sk-label input.sk-toggleable__control:checked~label.sk-toggleable__label {background-color: #d4ebff;}#sk-container-id-1 input.sk-hidden--visually {border: 0;clip: rect(1px 1px 1px 1px);clip: rect(1px, 1px, 1px, 1px);height: 1px;margin: -1px;overflow: hidden;padding: 0;position: absolute;width: 1px;}#sk-container-id-1 div.sk-estimator {font-family: monospace;background-color: #f0f8ff;border: 1px dotted black;border-radius: 0.25em;box-sizing: border-box;margin-bottom: 0.5em;}#sk-container-id-1 div.sk-estimator:hover {background-color: #d4ebff;}#sk-container-id-1 div.sk-parallel-item::after {content: \"\";width: 100%;border-bottom: 1px solid gray;flex-grow: 1;}#sk-container-id-1 div.sk-label:hover label.sk-toggleable__label {background-color: #d4ebff;}#sk-container-id-1 div.sk-serial::before {content: \"\";position: absolute;border-left: 1px solid gray;box-sizing: border-box;top: 0;bottom: 0;left: 50%;z-index: 0;}#sk-container-id-1 div.sk-serial {display: flex;flex-direction: column;align-items: center;background-color: white;padding-right: 0.2em;padding-left: 0.2em;position: relative;}#sk-container-id-1 div.sk-item {position: relative;z-index: 1;}#sk-container-id-1 div.sk-parallel {display: flex;align-items: stretch;justify-content: center;background-color: white;position: relative;}#sk-container-id-1 div.sk-item::before, #sk-container-id-1 div.sk-parallel-item::before {content: \"\";position: absolute;border-left: 1px solid gray;box-sizing: border-box;top: 0;bottom: 0;left: 50%;z-index: -1;}#sk-container-id-1 div.sk-parallel-item {display: flex;flex-direction: column;z-index: 1;position: relative;background-color: white;}#sk-container-id-1 div.sk-parallel-item:first-child::after {align-self: flex-end;width: 50%;}#sk-container-id-1 div.sk-parallel-item:last-child::after {align-self: flex-start;width: 50%;}#sk-container-id-1 div.sk-parallel-item:only-child::after {width: 0;}#sk-container-id-1 div.sk-dashed-wrapped {border: 1px dashed gray;margin: 0 0.4em 0.5em 0.4em;box-sizing: border-box;padding-bottom: 0.4em;background-color: white;}#sk-container-id-1 div.sk-label label {font-family: monospace;font-weight: bold;display: inline-block;line-height: 1.2em;}#sk-container-id-1 div.sk-label-container {text-align: center;}#sk-container-id-1 div.sk-container {/* jupyter's `normalize.less` sets `[hidden] { display: none; }` but bootstrap.min.css set `[hidden] { display: none !important; }` so we also need the `!important` here to be able to override the default hidden behavior on the sphinx rendered scikit-learn.org. See: https://github.com/scikit-learn/scikit-learn/issues/21755 */display: inline-block !important;position: relative;}#sk-container-id-1 div.sk-text-repr-fallback {display: none;}</style><div id=\"sk-container-id-1\" class=\"sk-top-container\"><div class=\"sk-text-repr-fallback\"><pre>LogisticRegression(max_iter=1000, solver=&#x27;sag&#x27;)</pre><b>In a Jupyter environment, please rerun this cell to show the HTML representation or trust the notebook. <br />On GitHub, the HTML representation is unable to render, please try loading this page with nbviewer.org.</b></div><div class=\"sk-container\" hidden><div class=\"sk-item\"><div class=\"sk-estimator sk-toggleable\"><input class=\"sk-toggleable__control sk-hidden--visually\" id=\"sk-estimator-id-1\" type=\"checkbox\" checked><label for=\"sk-estimator-id-1\" class=\"sk-toggleable__label sk-toggleable__label-arrow\">LogisticRegression</label><div class=\"sk-toggleable__content\"><pre>LogisticRegression(max_iter=1000, solver=&#x27;sag&#x27;)</pre></div></div></div></div></div>"
      ],
      "text/plain": [
       "LogisticRegression(max_iter=1000, solver='sag')"
      ]
     },
     "execution_count": 54,
     "metadata": {},
     "output_type": "execute_result"
    }
   ],
   "source": [
    "# Step 5\n",
    "# Running full data from Main_dataset\n",
    "\n",
    "X_Train_main = CV_lemma\n",
    "model_LR = LogisticRegression(max_iter=1000, solver='sag')\n",
    "model_LR.fit(X_Train_main,y)\n"
   ]
  },
  {
   "cell_type": "markdown",
   "metadata": {},
   "source": [
    "## <u>Preparing Evaluation Data for Prediction</u>"
   ]
  },
  {
   "cell_type": "markdown",
   "metadata": {},
   "source": [
    "<p>Following the same step as our training data, we have prepared our evaluation dataset below to do the final prediction.</p>"
   ]
  },
  {
   "cell_type": "code",
   "execution_count": 55,
   "metadata": {},
   "outputs": [
    {
     "data": {
      "text/html": [
       "<div>\n",
       "<style scoped>\n",
       "    .dataframe tbody tr th:only-of-type {\n",
       "        vertical-align: middle;\n",
       "    }\n",
       "\n",
       "    .dataframe tbody tr th {\n",
       "        vertical-align: top;\n",
       "    }\n",
       "\n",
       "    .dataframe thead th {\n",
       "        text-align: right;\n",
       "    }\n",
       "</style>\n",
       "<table border=\"1\" class=\"dataframe\">\n",
       "  <thead>\n",
       "    <tr style=\"text-align: right;\">\n",
       "      <th></th>\n",
       "      <th>movie_id</th>\n",
       "      <th>story</th>\n",
       "      <th>genres</th>\n",
       "    </tr>\n",
       "  </thead>\n",
       "  <tbody>\n",
       "    <tr>\n",
       "      <th>0</th>\n",
       "      <td>122349</td>\n",
       "      <td>Growing up in the Mission district of San Fran...</td>\n",
       "      <td>Drama</td>\n",
       "    </tr>\n",
       "    <tr>\n",
       "      <th>1</th>\n",
       "      <td>122351</td>\n",
       "      <td>A soldier returns home from the Iraq war only ...</td>\n",
       "      <td>Horror|Thriller</td>\n",
       "    </tr>\n",
       "    <tr>\n",
       "      <th>2</th>\n",
       "      <td>122361</td>\n",
       "      <td>Marco the Monkey works as a beach officer. But...</td>\n",
       "      <td>Animation|Children|Comedy</td>\n",
       "    </tr>\n",
       "    <tr>\n",
       "      <th>3</th>\n",
       "      <td>187901</td>\n",
       "      <td>When an honest cop, Vijay Kumar\\'s family is r...</td>\n",
       "      <td>Action|Romance</td>\n",
       "    </tr>\n",
       "    <tr>\n",
       "      <th>4</th>\n",
       "      <td>187903</td>\n",
       "      <td>Kathiresan aka Kaththi, a criminal, escapes fr...</td>\n",
       "      <td>Action|Drama|Romance</td>\n",
       "    </tr>\n",
       "  </tbody>\n",
       "</table>\n",
       "</div>"
      ],
      "text/plain": [
       "   movie_id                                              story  \\\n",
       "0    122349  Growing up in the Mission district of San Fran...   \n",
       "1    122351  A soldier returns home from the Iraq war only ...   \n",
       "2    122361  Marco the Monkey works as a beach officer. But...   \n",
       "3    187901  When an honest cop, Vijay Kumar\\'s family is r...   \n",
       "4    187903  Kathiresan aka Kaththi, a criminal, escapes fr...   \n",
       "\n",
       "                      genres  \n",
       "0                      Drama  \n",
       "1            Horror|Thriller  \n",
       "2  Animation|Children|Comedy  \n",
       "3             Action|Romance  \n",
       "4       Action|Drama|Romance  "
      ]
     },
     "execution_count": 55,
     "metadata": {},
     "output_type": "execute_result"
    }
   ],
   "source": [
    "# Step 6\n",
    "# Preprocessing of evaluation dataset\n",
    "movies_new_eval=pd.merge(movies_evaluation, movies, left_on='movie_id', right_on='movieId', how='inner')\n",
    "eval_dataset=movies_new_eval.drop(['movieId', 'title'], axis=1)\n",
    "eval_dataset.head()"
   ]
  },
  {
   "cell_type": "code",
   "execution_count": 56,
   "metadata": {},
   "outputs": [
    {
     "data": {
      "text/html": [
       "<div>\n",
       "<style scoped>\n",
       "    .dataframe tbody tr th:only-of-type {\n",
       "        vertical-align: middle;\n",
       "    }\n",
       "\n",
       "    .dataframe tbody tr th {\n",
       "        vertical-align: top;\n",
       "    }\n",
       "\n",
       "    .dataframe thead th {\n",
       "        text-align: right;\n",
       "    }\n",
       "</style>\n",
       "<table border=\"1\" class=\"dataframe\">\n",
       "  <thead>\n",
       "    <tr style=\"text-align: right;\">\n",
       "      <th></th>\n",
       "      <th>movie_id</th>\n",
       "      <th>story</th>\n",
       "      <th>genres</th>\n",
       "      <th>DramaGenre</th>\n",
       "    </tr>\n",
       "  </thead>\n",
       "  <tbody>\n",
       "    <tr>\n",
       "      <th>0</th>\n",
       "      <td>122349</td>\n",
       "      <td>Growing up in the Mission district of San Fran...</td>\n",
       "      <td>Drama</td>\n",
       "      <td>1</td>\n",
       "    </tr>\n",
       "    <tr>\n",
       "      <th>1</th>\n",
       "      <td>122351</td>\n",
       "      <td>A soldier returns home from the Iraq war only ...</td>\n",
       "      <td>Horror|Thriller</td>\n",
       "      <td>0</td>\n",
       "    </tr>\n",
       "    <tr>\n",
       "      <th>2</th>\n",
       "      <td>122361</td>\n",
       "      <td>Marco the Monkey works as a beach officer. But...</td>\n",
       "      <td>Animation|Children|Comedy</td>\n",
       "      <td>0</td>\n",
       "    </tr>\n",
       "    <tr>\n",
       "      <th>3</th>\n",
       "      <td>187901</td>\n",
       "      <td>When an honest cop, Vijay Kumar\\'s family is r...</td>\n",
       "      <td>Action|Romance</td>\n",
       "      <td>0</td>\n",
       "    </tr>\n",
       "    <tr>\n",
       "      <th>4</th>\n",
       "      <td>187903</td>\n",
       "      <td>Kathiresan aka Kaththi, a criminal, escapes fr...</td>\n",
       "      <td>Action|Drama|Romance</td>\n",
       "      <td>1</td>\n",
       "    </tr>\n",
       "  </tbody>\n",
       "</table>\n",
       "</div>"
      ],
      "text/plain": [
       "   movie_id                                              story  \\\n",
       "0    122349  Growing up in the Mission district of San Fran...   \n",
       "1    122351  A soldier returns home from the Iraq war only ...   \n",
       "2    122361  Marco the Monkey works as a beach officer. But...   \n",
       "3    187901  When an honest cop, Vijay Kumar\\'s family is r...   \n",
       "4    187903  Kathiresan aka Kaththi, a criminal, escapes fr...   \n",
       "\n",
       "                      genres  DramaGenre  \n",
       "0                      Drama           1  \n",
       "1            Horror|Thriller           0  \n",
       "2  Animation|Children|Comedy           0  \n",
       "3             Action|Romance           0  \n",
       "4       Action|Drama|Romance           1  "
      ]
     },
     "execution_count": 56,
     "metadata": {},
     "output_type": "execute_result"
    }
   ],
   "source": [
    "# Step 6\n",
    "# Creating DramaGenre column with binary values\n",
    "eval_dataset[\"DramaGenre\"]=eval_dataset[\"genres\"].map(lambda x:1 if \"Drama\" in x else 0)\n",
    "eval_dataset.head()"
   ]
  },
  {
   "cell_type": "code",
   "execution_count": 57,
   "metadata": {},
   "outputs": [],
   "source": [
    "# Step 6\n",
    "# Creating the dataframe by removing unwanted characters\n",
    "new_story_eval=[]\n",
    "for word in eval_dataset['story']:\n",
    "    word=re.sub(r'\\\\x..', ' ', word) #Removing unwanted charaters in form '\\xe2\\x80\\x93'\n",
    "    word=re.sub(r'[^\\w]', ' ', word) #Removing the symbols like '.', ':', ',' and '-'\n",
    "    word=re.sub(' s ', ' ', word) #Removing any single 's' characters\n",
    "    word=\" \".join(word.split()) #Removing multiple unwanted spaces\n",
    "    word=word.lower() #Converting all characters to lowercase\n",
    "    new_story_eval.append(word)\n",
    "eval_dataset.drop(['story', 'genres'], axis=1, inplace=True)\n",
    "eval_dataset['story']=new_story_eval"
   ]
  },
  {
   "cell_type": "code",
   "execution_count": 58,
   "metadata": {},
   "outputs": [
    {
     "data": {
      "text/html": [
       "<div>\n",
       "<style scoped>\n",
       "    .dataframe tbody tr th:only-of-type {\n",
       "        vertical-align: middle;\n",
       "    }\n",
       "\n",
       "    .dataframe tbody tr th {\n",
       "        vertical-align: top;\n",
       "    }\n",
       "\n",
       "    .dataframe thead th {\n",
       "        text-align: right;\n",
       "    }\n",
       "</style>\n",
       "<table border=\"1\" class=\"dataframe\">\n",
       "  <thead>\n",
       "    <tr style=\"text-align: right;\">\n",
       "      <th></th>\n",
       "      <th>movie_id</th>\n",
       "      <th>DramaGenre</th>\n",
       "      <th>story</th>\n",
       "    </tr>\n",
       "  </thead>\n",
       "  <tbody>\n",
       "    <tr>\n",
       "      <th>0</th>\n",
       "      <td>122349</td>\n",
       "      <td>1</td>\n",
       "      <td>growing up in the mission district of san fran...</td>\n",
       "    </tr>\n",
       "    <tr>\n",
       "      <th>1</th>\n",
       "      <td>122351</td>\n",
       "      <td>0</td>\n",
       "      <td>a soldier returns home from the iraq war only ...</td>\n",
       "    </tr>\n",
       "    <tr>\n",
       "      <th>2</th>\n",
       "      <td>122361</td>\n",
       "      <td>0</td>\n",
       "      <td>marco the monkey works as a beach officer but ...</td>\n",
       "    </tr>\n",
       "    <tr>\n",
       "      <th>3</th>\n",
       "      <td>187901</td>\n",
       "      <td>0</td>\n",
       "      <td>when an honest cop vijay kumar family is ruthl...</td>\n",
       "    </tr>\n",
       "    <tr>\n",
       "      <th>4</th>\n",
       "      <td>187903</td>\n",
       "      <td>1</td>\n",
       "      <td>kathiresan aka kaththi a criminal escapes from...</td>\n",
       "    </tr>\n",
       "  </tbody>\n",
       "</table>\n",
       "</div>"
      ],
      "text/plain": [
       "   movie_id  DramaGenre                                              story\n",
       "0    122349           1  growing up in the mission district of san fran...\n",
       "1    122351           0  a soldier returns home from the iraq war only ...\n",
       "2    122361           0  marco the monkey works as a beach officer but ...\n",
       "3    187901           0  when an honest cop vijay kumar family is ruthl...\n",
       "4    187903           1  kathiresan aka kaththi a criminal escapes from..."
      ]
     },
     "execution_count": 58,
     "metadata": {},
     "output_type": "execute_result"
    }
   ],
   "source": [
    "# Step 6\n",
    "eval_dataset.head()"
   ]
  },
  {
   "cell_type": "code",
   "execution_count": 59,
   "metadata": {},
   "outputs": [
    {
     "data": {
      "text/html": [
       "<div>\n",
       "<style scoped>\n",
       "    .dataframe tbody tr th:only-of-type {\n",
       "        vertical-align: middle;\n",
       "    }\n",
       "\n",
       "    .dataframe tbody tr th {\n",
       "        vertical-align: top;\n",
       "    }\n",
       "\n",
       "    .dataframe thead th {\n",
       "        text-align: right;\n",
       "    }\n",
       "</style>\n",
       "<table border=\"1\" class=\"dataframe\">\n",
       "  <thead>\n",
       "    <tr style=\"text-align: right;\">\n",
       "      <th></th>\n",
       "      <th>movie_id</th>\n",
       "      <th>DramaGenre</th>\n",
       "      <th>story</th>\n",
       "    </tr>\n",
       "  </thead>\n",
       "  <tbody>\n",
       "    <tr>\n",
       "      <th>0</th>\n",
       "      <td>122349</td>\n",
       "      <td>1</td>\n",
       "      <td>growing mission district san francisco che riv...</td>\n",
       "    </tr>\n",
       "    <tr>\n",
       "      <th>1</th>\n",
       "      <td>122351</td>\n",
       "      <td>0</td>\n",
       "      <td>soldier returns home iraq war haunted visions ...</td>\n",
       "    </tr>\n",
       "    <tr>\n",
       "      <th>2</th>\n",
       "      <td>122361</td>\n",
       "      <td>0</td>\n",
       "      <td>marco monkey works beach officer spends time t...</td>\n",
       "    </tr>\n",
       "    <tr>\n",
       "      <th>3</th>\n",
       "      <td>187901</td>\n",
       "      <td>0</td>\n",
       "      <td>honest cop vijay kumar family ruthlessly slaug...</td>\n",
       "    </tr>\n",
       "    <tr>\n",
       "      <th>4</th>\n",
       "      <td>187903</td>\n",
       "      <td>1</td>\n",
       "      <td>kathiresan aka kaththi criminal escapes kolkat...</td>\n",
       "    </tr>\n",
       "  </tbody>\n",
       "</table>\n",
       "</div>"
      ],
      "text/plain": [
       "   movie_id  DramaGenre                                              story\n",
       "0    122349           1  growing mission district san francisco che riv...\n",
       "1    122351           0  soldier returns home iraq war haunted visions ...\n",
       "2    122361           0  marco monkey works beach officer spends time t...\n",
       "3    187901           0  honest cop vijay kumar family ruthlessly slaug...\n",
       "4    187903           1  kathiresan aka kaththi criminal escapes kolkat..."
      ]
     },
     "execution_count": 59,
     "metadata": {},
     "output_type": "execute_result"
    }
   ],
   "source": [
    "# Step 6\n",
    "# Removing stopwords from evaluation dataset\n",
    "eval_dataset['story'] = eval_dataset.story.apply(filter_stopwords)\n",
    "eval_dataset.head()"
   ]
  },
  {
   "cell_type": "code",
   "execution_count": 60,
   "metadata": {},
   "outputs": [
    {
     "data": {
      "text/html": [
       "<div>\n",
       "<style scoped>\n",
       "    .dataframe tbody tr th:only-of-type {\n",
       "        vertical-align: middle;\n",
       "    }\n",
       "\n",
       "    .dataframe tbody tr th {\n",
       "        vertical-align: top;\n",
       "    }\n",
       "\n",
       "    .dataframe thead th {\n",
       "        text-align: right;\n",
       "    }\n",
       "</style>\n",
       "<table border=\"1\" class=\"dataframe\">\n",
       "  <thead>\n",
       "    <tr style=\"text-align: right;\">\n",
       "      <th></th>\n",
       "      <th>movie_id</th>\n",
       "      <th>DramaGenre</th>\n",
       "      <th>story</th>\n",
       "    </tr>\n",
       "  </thead>\n",
       "  <tbody>\n",
       "    <tr>\n",
       "      <th>0</th>\n",
       "      <td>122349</td>\n",
       "      <td>1</td>\n",
       "      <td>growing mission district san francisco che riv...</td>\n",
       "    </tr>\n",
       "    <tr>\n",
       "      <th>1</th>\n",
       "      <td>122351</td>\n",
       "      <td>0</td>\n",
       "      <td>soldier return home iraq war haunted vision dead</td>\n",
       "    </tr>\n",
       "    <tr>\n",
       "      <th>2</th>\n",
       "      <td>122361</td>\n",
       "      <td>0</td>\n",
       "      <td>marco monkey work beach officer spends time tr...</td>\n",
       "    </tr>\n",
       "    <tr>\n",
       "      <th>3</th>\n",
       "      <td>187901</td>\n",
       "      <td>0</td>\n",
       "      <td>honest cop vijay kumar family ruthlessly slaug...</td>\n",
       "    </tr>\n",
       "    <tr>\n",
       "      <th>4</th>\n",
       "      <td>187903</td>\n",
       "      <td>1</td>\n",
       "      <td>kathiresan aka kaththi criminal escape kolkata...</td>\n",
       "    </tr>\n",
       "    <tr>\n",
       "      <th>5</th>\n",
       "      <td>56835</td>\n",
       "      <td>0</td>\n",
       "      <td>popular south beach university filthy rich sup...</td>\n",
       "    </tr>\n",
       "    <tr>\n",
       "      <th>6</th>\n",
       "      <td>56837</td>\n",
       "      <td>1</td>\n",
       "      <td>witty playful utterly magical story compelling...</td>\n",
       "    </tr>\n",
       "    <tr>\n",
       "      <th>7</th>\n",
       "      <td>56846</td>\n",
       "      <td>0</td>\n",
       "      <td>rainbow press reporter ludo sentenced 8 month ...</td>\n",
       "    </tr>\n",
       "    <tr>\n",
       "      <th>8</th>\n",
       "      <td>122387</td>\n",
       "      <td>1</td>\n",
       "      <td>nemesis hottest rapper rap hottest city miami ...</td>\n",
       "    </tr>\n",
       "    <tr>\n",
       "      <th>9</th>\n",
       "      <td>187937</td>\n",
       "      <td>1</td>\n",
       "      <td>jacek love heavy metal dog convert country lan...</td>\n",
       "    </tr>\n",
       "  </tbody>\n",
       "</table>\n",
       "</div>"
      ],
      "text/plain": [
       "   movie_id  DramaGenre                                              story\n",
       "0    122349           1  growing mission district san francisco che riv...\n",
       "1    122351           0   soldier return home iraq war haunted vision dead\n",
       "2    122361           0  marco monkey work beach officer spends time tr...\n",
       "3    187901           0  honest cop vijay kumar family ruthlessly slaug...\n",
       "4    187903           1  kathiresan aka kaththi criminal escape kolkata...\n",
       "5     56835           0  popular south beach university filthy rich sup...\n",
       "6     56837           1  witty playful utterly magical story compelling...\n",
       "7     56846           0  rainbow press reporter ludo sentenced 8 month ...\n",
       "8    122387           1  nemesis hottest rapper rap hottest city miami ...\n",
       "9    187937           1  jacek love heavy metal dog convert country lan..."
      ]
     },
     "execution_count": 60,
     "metadata": {},
     "output_type": "execute_result"
    }
   ],
   "source": [
    "# Step 6\n",
    "# Applying Lemmatization on evaluation dataset\n",
    "eval_story_lemma = eval_dataset.copy(deep=True)\n",
    "eval_story_lemma['story']= eval_dataset[\"story\"].apply(lemmatization)\n",
    "eval_story_lemma.head(10)"
   ]
  },
  {
   "cell_type": "code",
   "execution_count": 61,
   "metadata": {},
   "outputs": [],
   "source": [
    "# Step 6\n",
    "CV_lemma_Test = vect2.transform(eval_story_lemma.story)"
   ]
  },
  {
   "cell_type": "markdown",
   "metadata": {},
   "source": [
    "## <u>Predicting Evaluation Data Using Best Model</u>"
   ]
  },
  {
   "cell_type": "code",
   "execution_count": 62,
   "metadata": {},
   "outputs": [
    {
     "name": "stdout",
     "output_type": "stream",
     "text": [
      "accuracy_score is:  0.7018296169239565\n",
      "Classification Report: \n",
      "               precision    recall  f1-score   support\n",
      "\n",
      "           0       0.76      0.72      0.74      2075\n",
      "           1       0.62      0.68      0.65      1423\n",
      "\n",
      "    accuracy                           0.70      3498\n",
      "   macro avg       0.69      0.70      0.69      3498\n",
      "weighted avg       0.71      0.70      0.70      3498\n",
      "\n"
     ]
    }
   ],
   "source": [
    "# Step 7 & 8\n",
    "# Predicting with the evaluation data set\n",
    "X_Test_main = CV_lemma_Test\n",
    "y_Test_main = eval_dataset.DramaGenre\n",
    "\n",
    "y_Test_hat_main = model_LR.predict(X_Test_main)\n",
    "print('accuracy_score is: ',accuracy_score(y_Test_main,y_Test_hat_main))\n",
    "print('Classification Report: \\n',classification_report(y_Test_main,y_Test_hat_main))"
   ]
  },
  {
   "cell_type": "markdown",
   "metadata": {},
   "source": [
    "## <u>Conclusion:</u>"
   ]
  },
  {
   "cell_type": "markdown",
   "metadata": {},
   "source": [
    "<p>After doing the final prediction on evaluation dataset, we can summarize that our out-of-sample accuracy is 70.18% so we can comment that our best model, logistic regression using CV_lemma is predcting correctly. </p>"
   ]
  }
 ],
 "metadata": {
  "kernelspec": {
   "display_name": "Python 3",
   "language": "python",
   "name": "python3"
  },
  "language_info": {
   "codemirror_mode": {
    "name": "ipython",
    "version": 3
   },
   "file_extension": ".py",
   "mimetype": "text/x-python",
   "name": "python",
   "nbconvert_exporter": "python",
   "pygments_lexer": "ipython3",
   "version": "3.8.8"
  }
 },
 "nbformat": 4,
 "nbformat_minor": 4
}
